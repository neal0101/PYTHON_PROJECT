{
 "cells": [
  {
   "cell_type": "code",
   "execution_count": 1,
   "id": "e5370ca8",
   "metadata": {},
   "outputs": [
    {
     "name": "stdout",
     "output_type": "stream",
     "text": [
      "*****\n",
      "*****\n",
      "*****\n",
      "*****\n",
      "*****\n"
     ]
    }
   ],
   "source": [
    "#1. Square Pattern in Python\n",
    "\n",
    "size = 5\n",
    "for i in range(size):\n",
    "    for j in range(size):\n",
    "        print(\"*\", end=\"\")\n",
    "    print()\n"
   ]
  },
  {
   "cell_type": "code",
   "execution_count": 2,
   "id": "3084c0e1",
   "metadata": {},
   "outputs": [
    {
     "name": "stdout",
     "output_type": "stream",
     "text": [
      "*****\n",
      "*   *\n",
      "*   *\n",
      "*   *\n",
      "*****\n"
     ]
    }
   ],
   "source": [
    "#2. Hollow Square Pattern\n",
    "\n",
    "size = 5\n",
    "for i in range(size):\n",
    "    for j in range(size):\n",
    "        if i == 0 or i == size - 1 or j == 0 or j == size - 1:\n",
    "            print(\"*\", end=\"\")\n",
    "        else:\n",
    "            print(\" \", end=\"\")\n",
    "    print()\n"
   ]
  },
  {
   "cell_type": "code",
   "execution_count": 3,
   "id": "d17c11fe",
   "metadata": {},
   "outputs": [
    {
     "name": "stdout",
     "output_type": "stream",
     "text": [
      "* \n",
      "* * \n",
      "* * * \n",
      "* * * * \n",
      "* * * * * \n"
     ]
    }
   ],
   "source": [
    "#3. Right Triangle Pattern\n",
    "n = 5\n",
    "for i in range(n):\n",
    "    for j in range(i + 1):\n",
    "        print(\"*\", end=\" \")\n",
    "    print()\n"
   ]
  },
  {
   "cell_type": "code",
   "execution_count": 4,
   "id": "9b7e8151",
   "metadata": {},
   "outputs": [
    {
     "name": "stdout",
     "output_type": "stream",
     "text": [
      "        * \n",
      "      * * \n",
      "    * * * \n",
      "  * * * * \n",
      "* * * * * \n"
     ]
    }
   ],
   "source": [
    "#4. Left Triangle Pattern\n",
    "n = 5\n",
    "for i in range(n):\n",
    "    for j in range(n - i - 1):\n",
    "        print(\" \", end=\" \")\n",
    "    for j in range(i + 1):\n",
    "        print(\"*\", end=\" \")\n",
    "    print()"
   ]
  },
  {
   "cell_type": "code",
   "execution_count": 2,
   "id": "8e6ecdc4",
   "metadata": {},
   "outputs": [
    {
     "name": "stdout",
     "output_type": "stream",
     "text": [
      "        * \n",
      "      * * * \n",
      "    * * * * * \n",
      "  * * * * * * * \n",
      "* * * * * * * * * \n"
     ]
    }
   ],
   "source": [
    "#5. Pyramid Pattern\n",
    "n = 5\n",
    "for i in range(n):\n",
    "    for j in range(n - i - 1):\n",
    "        print(\" \", end=\" \")\n",
    "    for j in range(2 * i + 1):\n",
    "        print(\"*\", end=\" \")\n",
    "    print()"
   ]
  },
  {
   "cell_type": "code",
   "execution_count": 7,
   "id": "a58403e9",
   "metadata": {},
   "outputs": [
    {
     "name": "stdout",
     "output_type": "stream",
     "text": [
      " * * * * *  \n",
      "  * * * *  \n",
      "   * * *  \n",
      "    * *  \n",
      "     *  \n"
     ]
    }
   ],
   "source": [
    "#6. Reverse Pyramid Pattern\n",
    "n = 5\n",
    "for i in range(n, 0, -1):\n",
    "    for j in range(0, n-i+1):\n",
    "        print(\" \",end='')\n",
    "    for k in range(0, i):\n",
    "        print(\"* \", end='')\n",
    "\n",
    "    print(\" \")"
   ]
  },
  {
   "cell_type": "code",
   "execution_count": 9,
   "id": "5d9ec9ad",
   "metadata": {},
   "outputs": [
    {
     "name": "stdout",
     "output_type": "stream",
     "text": [
      "***** \n",
      "**** \n",
      "*** \n",
      "** \n",
      "* \n"
     ]
    }
   ],
   "source": [
    "#7. Reverse Half Pyramid Pattern (Right-Sided)\n",
    "n = 5\n",
    "for i in range(n, 0, -1):\n",
    "    for j in range(0, i):\n",
    "        print(\"*\", end='')\n",
    "    print(\" \")"
   ]
  },
  {
   "cell_type": "code",
   "execution_count": 10,
   "id": "eddd6345",
   "metadata": {},
   "outputs": [
    {
     "name": "stdout",
     "output_type": "stream",
     "text": [
      " ***** \n",
      "  **** \n",
      "   *** \n",
      "    ** \n",
      "     * \n"
     ]
    }
   ],
   "source": [
    "#8. Reverse Half Pyramid Pattern (Left-Sided)\n",
    "n = 5\n",
    "for i in range(n, 0, -1):\n",
    "    for j in range(0, n-i+1):\n",
    "        print(\" \",end='')\n",
    "    for k in range(0, i):\n",
    "        print(\"*\", end='')\n",
    "\n",
    "    print(\" \")"
   ]
  },
  {
   "cell_type": "code",
   "execution_count": 15,
   "id": "8f66a1e2",
   "metadata": {},
   "outputs": [
    {
     "name": "stdout",
     "output_type": "stream",
     "text": [
      "        * \n",
      "      * * * \n",
      "    * * * * * \n",
      "  * * * * * * * \n",
      "* * * * * * * * * \n",
      "  * * * * * * * \n",
      "    * * * * * \n",
      "      * * * \n",
      "        * \n"
     ]
    }
   ],
   "source": [
    "#9. Diamond Pattern\n",
    "\n",
    "n = 5\n",
    "for i in range(n):\n",
    "    for j in range(n - i - 1):\n",
    "        print(\" \", end=\" \")\n",
    "    for j in range(2 * i + 1):\n",
    "        print(\"*\", end=\" \")\n",
    "    print()\n",
    "for i in range(n - 2, -1, -1):\n",
    "    for j in range(n - i - 1):\n",
    "        print(\" \", end=\" \")\n",
    "    for j in range(2 * i + 1):\n",
    "        print(\"*\", end=\" \")\n",
    "    print()"
   ]
  },
  {
   "cell_type": "code",
   "execution_count": 17,
   "id": "67c20db9",
   "metadata": {},
   "outputs": [
    {
     "name": "stdout",
     "output_type": "stream",
     "text": [
      "* \n",
      "** \n",
      "*** \n",
      "**** \n",
      "***** \n",
      "***** \n",
      "**** \n",
      "*** \n",
      "** \n",
      "* \n"
     ]
    }
   ],
   "source": [
    "#10. Half Diamond Pattern\n",
    "\n",
    "n = 5\n",
    "for i in range (1, n+1):\n",
    "    for j in range (i):\n",
    "        print(\"*\", end=\"\")\n",
    "    print(\" \")\n",
    "\n",
    "for i in range (n,0,-1):\n",
    "    for j in range (i):\n",
    "        print(\"*\", end=\"\")\n",
    "    print(\" \")\n"
   ]
  },
  {
   "cell_type": "code",
   "execution_count": 24,
   "id": "f1c29259",
   "metadata": {},
   "outputs": [
    {
     "name": "stdout",
     "output_type": "stream",
     "text": [
      "*   *\n",
      " * * \n",
      "  *  \n",
      " * * \n",
      "*   *\n"
     ]
    }
   ],
   "source": [
    "#11 cross pattern in python\n",
    "size = 5\n",
    "\n",
    "for i in range(size):\n",
    "    for j in range(size):\n",
    "        if i == j or i + j == size - 1:\n",
    "            print(\"*\", end=\"\")\n",
    "        else:\n",
    "            print(\" \", end=\"\")\n",
    "    print()"
   ]
  },
  {
   "cell_type": "code",
   "execution_count": 20,
   "id": "4c631cb5",
   "metadata": {},
   "outputs": [
    {
     "name": "stdout",
     "output_type": "stream",
     "text": [
      "1  \n",
      "2 2  \n",
      "3 3 3  \n",
      "4 4 4 4  \n",
      "5 5 5 5 5  \n"
     ]
    }
   ],
   "source": [
    "#12. Number Pattern 2\n",
    "\n",
    "n = 5\n",
    "for i in range(1, n+1):\n",
    "    for j in range(i):\n",
    "        print(i, end=\" \")\n",
    "    print(\" \")\n"
   ]
  },
  {
   "cell_type": "code",
   "execution_count": 22,
   "id": "9b6fb936",
   "metadata": {},
   "outputs": [
    {
     "name": "stdout",
     "output_type": "stream",
     "text": [
      "1 1 1 1 1  \n",
      "2 2 2 2  \n",
      "3 3 3  \n",
      "4 4  \n",
      "5  \n"
     ]
    }
   ],
   "source": [
    "#13. Reverse Number Pattern – Increment Order\n",
    "\n",
    "n = 5\n",
    "m = 0\n",
    "for i in range(n, 0, -1):\n",
    "    m += 1\n",
    "    for j in range(0, i):\n",
    "        print(m, end=\" \")\n",
    "    print(\" \")\n"
   ]
  },
  {
   "cell_type": "code",
   "execution_count": 23,
   "id": "ea622472",
   "metadata": {},
   "outputs": [
    {
     "name": "stdout",
     "output_type": "stream",
     "text": [
      "A \n",
      "B C \n",
      "D E F \n",
      "G H I J \n",
      "K L M N O \n"
     ]
    }
   ],
   "source": [
    "#14. Alphabet Pattern with Increment Order\n",
    "\n",
    "n = 5\n",
    "start_char = ord('A')\n",
    "for i in range(n):\n",
    "    for j in range(i + 1):\n",
    "        print(chr(start_char), end=\" \")\n",
    "        start_char += 1\n",
    "    print()\n"
   ]
  },
  {
   "cell_type": "code",
   "execution_count": 24,
   "id": "67402afd",
   "metadata": {
    "scrolled": true
   },
   "outputs": [
    {
     "name": "stdout",
     "output_type": "stream",
     "text": [
      "  * *   * *   \n",
      "*     *     * \n",
      "*           * \n",
      "  *       *   \n",
      "    *   *     \n",
      "      *       \n"
     ]
    }
   ],
   "source": [
    "#15.Heart Pattern\n",
    "\n",
    "for i in range(6):\n",
    "    for j in range(7):\n",
    "        if (i == 0 and j % 3 != 0) or (i == 1 and j % 3 == 0) or(i - j == 2) or (i + j == 8):\n",
    "            print(\"*\", end=\" \")\n",
    "        else:\n",
    "            print(\" \", end=\" \")\n",
    "    print()\n"
   ]
  },
  {
   "cell_type": "code",
   "execution_count": 43,
   "id": "8576e764",
   "metadata": {},
   "outputs": [
    {
     "name": "stdout",
     "output_type": "stream",
     "text": [
      "* * * *       \n",
      "*       *     \n",
      "*       *     \n",
      "*       *     \n",
      "*       *     \n",
      "*       *     \n",
      "* * * *       \n"
     ]
    }
   ],
   "source": [
    "# Pattern printing develearn \n",
    "for i in range(7):\n",
    "    for j in range(7):\n",
    "        if j == 0 or ((i==0 or i==6)  and  (j < 4)) or (j==4 and i!=0 and i!=6 )  :\n",
    "        \n",
    "            print(\"*\", end=\" \")\n",
    "            \n",
    "        else:\n",
    "            print(\" \", end=\" \")\n",
    "    print()\n"
   ]
  },
  {
   "cell_type": "code",
   "execution_count": 35,
   "id": "aae26b5a",
   "metadata": {},
   "outputs": [
    {
     "name": "stdout",
     "output_type": "stream",
     "text": [
      "* * * * * * * \n",
      "*             \n",
      "*             \n",
      "* * * * * * * \n",
      "*             \n",
      "*             \n",
      "* * * * * * * \n"
     ]
    }
   ],
   "source": [
    "# Pattern printing develearn \n",
    "for i in range(7):\n",
    "    for j in range(7):\n",
    "        if j == 0 or (i == 0 or i == 3 or i == 6):\n",
    "        \n",
    "            print(\"*\", end=\" \")\n",
    "            \n",
    "        else:\n",
    "            print(\" \", end=\" \")\n",
    "    print()"
   ]
  },
  {
   "cell_type": "code",
   "execution_count": 38,
   "id": "2cb2077d",
   "metadata": {},
   "outputs": [
    {
     "name": "stdout",
     "output_type": "stream",
     "text": [
      "*           * \n",
      "*           * \n",
      "*           * \n",
      "*           * \n",
      "*           * \n",
      "  *       *   \n",
      "      *       \n",
      "\n"
     ]
    }
   ],
   "source": [
    "for i in range(7):\n",
    "    for j in range(7):\n",
    "        if (j == 0 and i < 5) or (j == 6 and i < 5) or (i == 5 and (j == 1 or j == 5)) or (i == 6 and j == 3):\n",
    "            print(\"*\", end=\" \")\n",
    "        else:\n",
    "            print(\" \", end=\" \")\n",
    "    print()\n",
    "print()\n"
   ]
  },
  {
   "cell_type": "code",
   "execution_count": 39,
   "id": "7312882f",
   "metadata": {},
   "outputs": [
    {
     "name": "stdout",
     "output_type": "stream",
     "text": [
      "* * * * * * * \n",
      "*             \n",
      "*             \n",
      "* * * * * * * \n",
      "*             \n",
      "*             \n",
      "* * * * * * * \n"
     ]
    }
   ],
   "source": [
    "# Pattern printing develearn \n",
    "for i in range(7):\n",
    "    for j in range(7):\n",
    "        if j == 0 or (i == 0 or i == 3 or i == 6):\n",
    "        \n",
    "            print(\"*\", end=\" \")\n",
    "            \n",
    "        else:\n",
    "            print(\" \", end=\" \")\n",
    "    print()"
   ]
  },
  {
   "cell_type": "code",
   "execution_count": 41,
   "id": "05134317",
   "metadata": {},
   "outputs": [
    {
     "name": "stdout",
     "output_type": "stream",
     "text": [
      "*             \n",
      "*             \n",
      "*             \n",
      "*             \n",
      "*             \n",
      "*             \n",
      "* * * * * * * \n",
      "\n"
     ]
    }
   ],
   "source": [
    "for i in range(7):\n",
    "    for j in range(7):\n",
    "        if j == 0 or i == 6:\n",
    "            print(\"*\", end=\" \")\n",
    "        else:\n",
    "            print(\" \", end=\" \")\n",
    "    print()\n",
    "print()\n"
   ]
  },
  {
   "cell_type": "code",
   "execution_count": 54,
   "id": "b63eb26c",
   "metadata": {},
   "outputs": [
    {
     "name": "stdout",
     "output_type": "stream",
     "text": [
      "* * * * * * * \n",
      "*             \n",
      "*             \n",
      "* * * * * * * \n",
      "*             \n",
      "*             \n",
      "* * * * * * * \n"
     ]
    }
   ],
   "source": [
    "# Pattern printing develearn \n",
    "for i in range(7):\n",
    "    for j in range(7):\n",
    "        if j == 0 or (i == 0 or i == 3 or i == 6):\n",
    "        \n",
    "            print(\"*\", end=\" \")\n",
    "            \n",
    "        else:\n",
    "            print(\" \", end=\" \")\n",
    "    print()"
   ]
  },
  {
   "cell_type": "code",
   "execution_count": 50,
   "id": "ba2003b8",
   "metadata": {},
   "outputs": [
    {
     "name": "stdout",
     "output_type": "stream",
     "text": [
      "* * * * * * * \n",
      "*           * \n",
      "*           * \n",
      "* * * * * * * \n",
      "*           * \n",
      "*           * \n",
      "*           * \n",
      "\n"
     ]
    }
   ],
   "source": [
    "for i in range(7):\n",
    "    for j in range(7):\n",
    "        if j == 0 or j == 6 or (i == 3 and (j > 0 and j < 6)) or (i == 0 and (j > 0 and j < 6)):\n",
    "            print(\"*\", end=\" \")\n",
    "        else:\n",
    "            print(\" \", end=\" \")\n",
    "    print()\n",
    "print()\n"
   ]
  },
  {
   "cell_type": "code",
   "execution_count": 52,
   "id": "a66c19ed",
   "metadata": {},
   "outputs": [
    {
     "name": "stdout",
     "output_type": "stream",
     "text": [
      "* * * * *     \n",
      "*       *     \n",
      "*       *     \n",
      "* * * * *     \n",
      "*       *     \n",
      "*         *   \n",
      "*           * \n",
      "\n"
     ]
    }
   ],
   "source": [
    "for i in range(7):\n",
    "    for j in range(7):\n",
    "        if j == 0 or (i == 0 or i == 3) and j < 5 or (j == 4 and (i != 0 and i < 3)) or (i == j and i > 2):\n",
    "            print(\"*\", end=\" \")\n",
    "        else:\n",
    "            print(\" \", end=\" \")\n",
    "    print()\n",
    "print()\n"
   ]
  },
  {
   "cell_type": "code",
   "execution_count": 53,
   "id": "95bfdd6e",
   "metadata": {},
   "outputs": [
    {
     "name": "stdout",
     "output_type": "stream",
     "text": [
      "*           * \n",
      "* *         * \n",
      "*   *       * \n",
      "*     *     * \n",
      "*       *   * \n",
      "*         * * \n",
      "*           * \n",
      "\n"
     ]
    }
   ],
   "source": [
    "for i in range(7):\n",
    "    for j in range(7):\n",
    "        if j == 0 or j == 6 or i == j:\n",
    "            print(\"*\", end=\" \")\n",
    "        else:\n",
    "            print(\" \", end=\" \")\n",
    "    print()\n",
    "print()\n"
   ]
  },
  {
   "cell_type": "code",
   "execution_count": null,
   "id": "43c95f48",
   "metadata": {},
   "outputs": [],
   "source": []
  },
  {
   "cell_type": "code",
   "execution_count": null,
   "id": "2e22a460",
   "metadata": {},
   "outputs": [],
   "source": []
  }
 ],
 "metadata": {
  "kernelspec": {
   "display_name": "Python 3 (ipykernel)",
   "language": "python",
   "name": "python3"
  },
  "language_info": {
   "codemirror_mode": {
    "name": "ipython",
    "version": 3
   },
   "file_extension": ".py",
   "mimetype": "text/x-python",
   "name": "python",
   "nbconvert_exporter": "python",
   "pygments_lexer": "ipython3",
   "version": "3.11.4"
  }
 },
 "nbformat": 4,
 "nbformat_minor": 5
}
