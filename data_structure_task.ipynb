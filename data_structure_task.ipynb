{
 "cells": [
  {
   "cell_type": "markdown",
   "metadata": {
    "id": "z2bgXhM2gGDE"
   },
   "source": [
    "#                                 **String**\n",
    "x ='i LoVe pYtHoN PrOGrAm'"
   ]
  },
  {
   "cell_type": "code",
   "execution_count": null,
   "metadata": {
    "colab": {
     "base_uri": "https://localhost:8080/"
    },
    "id": "ZUgMJrKkQHvP",
    "outputId": "a9ff87c5-f667-494e-aa18-fc8140f4d980"
   },
   "outputs": [
    {
     "name": "stdout",
     "output_type": "stream",
     "text": [
      "I love python program\n"
     ]
    }
   ],
   "source": [
    "# Q1.write a code to get the following ouput....\n",
    "# output-: 'I love python program'\n",
    "x ='i LoVe pYtHoN PrOGrAm'\n",
    "print(x.capitalize())"
   ]
  },
  {
   "cell_type": "code",
   "execution_count": null,
   "metadata": {
    "colab": {
     "base_uri": "https://localhost:8080/"
    },
    "id": "rX7PoLYOoEiJ",
    "outputId": "efd55fed-806b-4049-e4b1-8b5df1ef23b0"
   },
   "outputs": [
    {
     "name": "stdout",
     "output_type": "stream",
     "text": [
      "I Love Python Program\n"
     ]
    }
   ],
   "source": [
    "# Q2.write a code to get the following ouput....\n",
    "# output-: 'I Love Python Program'\n",
    "print(x.title())"
   ]
  },
  {
   "cell_type": "code",
   "execution_count": null,
   "metadata": {
    "colab": {
     "base_uri": "https://localhost:8080/"
    },
    "id": "NCGpgNVCogjF",
    "outputId": "b8bd8001-77e8-46d5-bd1c-9c070120ee89"
   },
   "outputs": [
    {
     "name": "stdout",
     "output_type": "stream",
     "text": [
      "i love python program\n"
     ]
    }
   ],
   "source": [
    "# Q3.write a code to get the following ouput....\n",
    "# output-: 'i love python program'\n",
    "print(x.lower())"
   ]
  },
  {
   "cell_type": "code",
   "execution_count": null,
   "metadata": {
    "colab": {
     "base_uri": "https://localhost:8080/"
    },
    "id": "Zv_kUQd6pEN1",
    "outputId": "397fc19d-d455-49c0-9275-e8c43ab63b82"
   },
   "outputs": [
    {
     "name": "stdout",
     "output_type": "stream",
     "text": [
      "I LOVE PYTHON PROGRAM\n"
     ]
    }
   ],
   "source": [
    "# Q4.write a code to get the following ouput....\n",
    "# output-: 'I LOVE PYTHON PROGRAM'\n",
    "print(x.upper())"
   ]
  },
  {
   "cell_type": "code",
   "execution_count": null,
   "metadata": {
    "colab": {
     "base_uri": "https://localhost:8080/"
    },
    "id": "6uMXFOQmk9KC",
    "outputId": "d52c576a-72df-4ad0-e74f-43e42ce27714"
   },
   "outputs": [
    {
     "name": "stdout",
     "output_type": "stream",
     "text": [
      "['i', 'LoVe', 'pYtHoN', 'PrOGrAm']\n"
     ]
    }
   ],
   "source": [
    "# Q5.write a code to get the following ouput....\n",
    "# output-: ['i', 'LoVe', 'pYtHoN', 'PrOGrAm']\n",
    "print(x.split())"
   ]
  },
  {
   "cell_type": "code",
   "execution_count": null,
   "metadata": {
    "colab": {
     "base_uri": "https://localhost:8080/"
    },
    "id": "xMSAzQ5slGBD",
    "outputId": "fd5b4a67-e805-472e-ee46-e653b796976c"
   },
   "outputs": [
    {
     "name": "stdout",
     "output_type": "stream",
     "text": [
      "my name is python and my age is 30\n"
     ]
    }
   ],
   "source": [
    "# Q6.use format method to inject the following name and age\n",
    "# variable in given variable named string\n",
    "# name=\"python\"\n",
    "# age=30\n",
    "# string=\"my name is {} and my age is {}\"\n",
    "# output-: 'my name is python and my age is 30'\n",
    "name=\"python\"\n",
    "age=30\n",
    "string=\"my name is {} and my age is {}\"\n",
    "print(string.format(name,age))"
   ]
  },
  {
   "cell_type": "code",
   "execution_count": null,
   "metadata": {
    "colab": {
     "base_uri": "https://localhost:8080/"
    },
    "id": "d1xkPKy-kut0",
    "outputId": "5b8c1ef7-edc2-4486-dcac-0c7e23443b86"
   },
   "outputs": [
    {
     "name": "stdout",
     "output_type": "stream",
     "text": [
      " pYtHoN\n"
     ]
    }
   ],
   "source": [
    "# Q7.write a code to retrieve the word 'pYtHoN' by using slicing\n",
    "# from variable x\n",
    "# output-: 'pYtHoN'\n",
    "print(x[6:13])"
   ]
  },
  {
   "cell_type": "markdown",
   "metadata": {
    "id": "Jg_fIxOhp5Ot"
   },
   "source": [
    "#              **Tuple**\n",
    "t = (2,1,4,6,2,1,4,1,2,7,1)"
   ]
  },
  {
   "cell_type": "code",
   "execution_count": null,
   "metadata": {
    "colab": {
     "base_uri": "https://localhost:8080/"
    },
    "id": "kK3uE1eQoGr-",
    "outputId": "d17058ab-5c67-477e-f405-616303b3bce0"
   },
   "outputs": [
    {
     "name": "stdout",
     "output_type": "stream",
     "text": [
      "4\n"
     ]
    }
   ],
   "source": [
    "#Q1.write the code to count the frequency of 1\n",
    "t = (2,1,4,6,2,1,4,1,2,7,1)\n",
    "print(t.count(1))"
   ]
  },
  {
   "cell_type": "code",
   "execution_count": null,
   "metadata": {
    "id": "vRPokh-Jo8zM"
   },
   "outputs": [],
   "source": [
    "# Q2.write a code to merge tuple t with (11,12,13,14) & store in\n",
    "# variable named newt\n",
    "t = (2,1,4,6,2,1,4,1,2,7,1)\n",
    "newt = t + (11,12,13,14)\n",
    "print(newt)\n"
   ]
  },
  {
   "cell_type": "code",
   "execution_count": null,
   "metadata": {
    "id": "FW5vGQ8Irj_s"
   },
   "outputs": [],
   "source": []
  },
  {
   "cell_type": "markdown",
   "metadata": {
    "id": "0TIfYDkmr5B0"
   },
   "source": [
    "#             **List**\n",
    "x = [2,4,6,8,10]"
   ]
  },
  {
   "cell_type": "code",
   "execution_count": null,
   "metadata": {
    "colab": {
     "base_uri": "https://localhost:8080/"
    },
    "id": "W6uKFzU_sAxk",
    "outputId": "3c39b310-e430-4b83-b85c-8cfff3bf3d4a"
   },
   "outputs": [
    {
     "name": "stdout",
     "output_type": "stream",
     "text": [
      "[2, 4, 6, 8, 10, 'eleven']\n"
     ]
    }
   ],
   "source": [
    "# Q1.write a code to add a element 'eleven' , inside list at the end\n",
    "# output-:[2,4,6,8,10,'eleven']\n",
    "\n",
    "x = [2,4,6,8,10]\n",
    "x.append('eleven')\n",
    "print(x)\n"
   ]
  },
  {
   "cell_type": "code",
   "execution_count": null,
   "metadata": {
    "colab": {
     "base_uri": "https://localhost:8080/"
    },
    "id": "Ptbm9uV4sPHC",
    "outputId": "e22d609b-7586-479c-eb92-f18192ec6544"
   },
   "outputs": [
    {
     "name": "stdout",
     "output_type": "stream",
     "text": [
      "['one', 2, 4, 6, 8, 10, 'eleven']\n"
     ]
    }
   ],
   "source": [
    "# Q2.perform an operation to get the following output\n",
    "# output-: ['one', 2, 4, 6, 8, 10, 'eleven']\n",
    "\n",
    "x.insert(0, 'one')\n",
    "print(x)\n"
   ]
  },
  {
   "cell_type": "code",
   "execution_count": null,
   "metadata": {
    "colab": {
     "base_uri": "https://localhost:8080/"
    },
    "id": "oJ141pzotioF",
    "outputId": "14078669-9fa2-4ed2-c194-7433065d19d4"
   },
   "outputs": [
    {
     "name": "stdout",
     "output_type": "stream",
     "text": [
      "['one', 2, 4, 6, 8, 10, 'eleven', 12, 13, 14]\n"
     ]
    }
   ],
   "source": [
    "# Q3.perform an operation to merge the list y inside list x\n",
    "# y= [12,13,14] output-: ['one', 2, 4, 6, 8, 10, 'eleven', 12, 13, 14]\n",
    "y= [12,13,14]\n",
    "x.extend(y)\n",
    "print(x)"
   ]
  },
  {
   "cell_type": "code",
   "execution_count": null,
   "metadata": {
    "colab": {
     "base_uri": "https://localhost:8080/"
    },
    "id": "UzkBA8bbtucT",
    "outputId": "ff1d8020-5ea1-497d-fd60-57a658546fb1"
   },
   "outputs": [
    {
     "name": "stdout",
     "output_type": "stream",
     "text": [
      "[14, 13, 12, 'eleven', 10, 8, 6, 4, 2, 'one']\n"
     ]
    }
   ],
   "source": [
    "# Q4.perform an operation to get the following output\n",
    "# output-: [14, 13, 12, 'eleven', 10, 8, 6, 4, 2, 'one']\n",
    "print(x[::-1])"
   ]
  },
  {
   "cell_type": "code",
   "execution_count": null,
   "metadata": {
    "colab": {
     "base_uri": "https://localhost:8080/"
    },
    "id": "c7hipdykt80M",
    "outputId": "c5df5dad-fcc5-4b62-b756-6e96e2d084c6"
   },
   "outputs": [
    {
     "name": "stdout",
     "output_type": "stream",
     "text": [
      "[14, 13, 12, 6, 4, 2, 'one']\n"
     ]
    }
   ],
   "source": [
    "# Q5.Perform one single operation to remove 'eleven', 10, 8 all\n",
    "# together at once\n",
    "# output-: [14, 13, 12, 6, 4, 2, 'one']\n",
    "x = [14, 13, 12, 'eleven', 10, 8, 6, 4, 2, 'one']\n",
    "# del x[3:6]\n",
    "# print(x)\n",
    "x1=['eleven', 10, 8]\n",
    "x2=[]\n",
    "for i in x:\n",
    "  if i not in x1:\n",
    "    x2.append(i)\n",
    "print(x2)\n",
    "\n",
    "\n"
   ]
  },
  {
   "cell_type": "code",
   "execution_count": null,
   "metadata": {
    "colab": {
     "base_uri": "https://localhost:8080/"
    },
    "id": "cOr-RNTkuJwE",
    "outputId": "33e3100c-b1bc-4c96-d6b9-64296d8e0c73"
   },
   "outputs": [
    {
     "name": "stdout",
     "output_type": "stream",
     "text": [
      "[14, 13, 12, 6, 4, 2]\n"
     ]
    }
   ],
   "source": [
    "# Q6.write a code to remove 'one' element from the list\n",
    "# output-: [14, 13, 12, 6, 4, 2]\n",
    "x=[14, 13, 12, 6, 4, 2,'one']\n",
    "x.pop(6)\n",
    "print(x)"
   ]
  },
  {
   "cell_type": "code",
   "execution_count": null,
   "metadata": {
    "colab": {
     "base_uri": "https://localhost:8080/"
    },
    "id": "lOdVj3HmuL_0",
    "outputId": "41f9faf4-5150-45c3-f68a-f8d604a1b179"
   },
   "outputs": [
    {
     "name": "stdout",
     "output_type": "stream",
     "text": [
      "hey there hello world\n"
     ]
    }
   ],
   "source": [
    "# Q7.write a code to get the following output\n",
    "\n",
    "x2 = [\"hey\",\"there\",\"hello\",\"world\"]\n",
    "y=\" \".join(x2)\n",
    "print(y)\n"
   ]
  },
  {
   "cell_type": "markdown",
   "metadata": {
    "id": "mFoFN3Z8PAd4"
   },
   "source": [
    "#         **Dictionary**\n",
    "d = {'a':10,'b':30,'c':50,'d':100}"
   ]
  },
  {
   "cell_type": "code",
   "execution_count": null,
   "metadata": {
    "colab": {
     "base_uri": "https://localhost:8080/"
    },
    "id": "kf87a7buw9Rc",
    "outputId": "ce5129ff-6624-495e-faaf-099249e5a160"
   },
   "outputs": [
    {
     "name": "stdout",
     "output_type": "stream",
     "text": [
      "{'a': 10, 'b': 300, 'c': 50, 'd': 100}\n"
     ]
    }
   ],
   "source": [
    "# Q1.write a code to update the value of key 'b' to 300\n",
    "# output-: {'a':10,'b':300,'c':50,'d':100}\n",
    "d = {'a':10,'b':30,'c':50,'d':100}\n",
    "d['b']=300\n",
    "print(d)"
   ]
  },
  {
   "cell_type": "code",
   "execution_count": null,
   "metadata": {
    "colab": {
     "base_uri": "https://localhost:8080/"
    },
    "id": "w4iGFfH6xKzE",
    "outputId": "96098180-7355-4400-c762-d5f75f5ec37a"
   },
   "outputs": [
    {
     "name": "stdout",
     "output_type": "stream",
     "text": [
      "e key does not exist\n"
     ]
    }
   ],
   "source": [
    "# Q2.write a code to check if key 'e' is present in dictionary d\n",
    "# if it 'e' is not present in d, then it should return 'e key does not\n",
    "# exist'\n",
    "# output-: 'e key does not exist'\n",
    "\n",
    "d = {'a':10,'b':30,'c':50,'d':100}\n",
    "if 'e' in d:\n",
    "  print(d['e'])\n",
    "else:\n",
    "  print('e key does not exist')"
   ]
  },
  {
   "cell_type": "code",
   "execution_count": null,
   "metadata": {
    "colab": {
     "base_uri": "https://localhost:8080/"
    },
    "id": "Id9EEISBP_TJ",
    "outputId": "bf24b981-c2d6-4de4-ff93-828b6722321d"
   },
   "outputs": [
    {
     "name": "stdout",
     "output_type": "stream",
     "text": [
      "{'a': 10, 'b': 30, 'c': 50, 'd': 100, 'e': 600}\n"
     ]
    }
   ],
   "source": [
    "# Q3.write a code to add new key,value i.e 'e',600 respectively\n",
    "# inside dictionary d\n",
    "# output-: {'a':10,'b':300,'c':50,'d':100,'e':600}\n",
    "d = {'a':10,'b':30,'c':50,'d':100}\n",
    "d['e']=600\n",
    "print(d)"
   ]
  },
  {
   "cell_type": "code",
   "execution_count": null,
   "metadata": {
    "colab": {
     "base_uri": "https://localhost:8080/"
    },
    "id": "r8roWd0jQNKk",
    "outputId": "ec58d178-4511-4377-a04c-7e3a37671028"
   },
   "outputs": [
    {
     "name": "stdout",
     "output_type": "stream",
     "text": [
      "dict_values([10, 30, 50, 100, 600])\n"
     ]
    }
   ],
   "source": [
    "# Q4.write a code to display all the values from the dictionary\n",
    "# output-: dict_values([10, 300, 50, 100, 600])\n",
    "print(d.values())"
   ]
  },
  {
   "cell_type": "code",
   "execution_count": null,
   "metadata": {
    "colab": {
     "base_uri": "https://localhost:8080/"
    },
    "id": "lx2lkPQrQWGd",
    "outputId": "625c2bf4-a1a1-4027-f19a-2882164f6ca2"
   },
   "outputs": [
    {
     "name": "stdout",
     "output_type": "stream",
     "text": [
      "{'a': 10, 'b': 30, 'c': 50, 'd': 100, 'e': 600, 'i': 11, 'j': 12, 'k': 13, 'l': 14}\n"
     ]
    }
   ],
   "source": [
    "# Q5.write a code to merge the dictionary x inside dictionry d\n",
    "# x = {'i':11,'j':12,'k':13,'l':14}\n",
    "# output-: {'a':10,'b':300,'c':50,'d':100,'e':600,'i':11,'j':12,'k':13,'l':14}\n",
    "x = {'i':11,'j':12,'k':13,'l':14}\n",
    "d.update(x)\n",
    "print(d)"
   ]
  },
  {
   "cell_type": "code",
   "execution_count": null,
   "metadata": {
    "colab": {
     "base_uri": "https://localhost:8080/"
    },
    "id": "O5lCSP4BQc50",
    "outputId": "3deeb976-f7ef-4934-bc2d-ffc3e9d8ee01"
   },
   "outputs": [
    {
     "name": "stdout",
     "output_type": "stream",
     "text": [
      "{'a': 10, 'b': 30, 'c': 50, 'd': 100, 'e': 600, 'i': 11, 'k': 13, 'l': 14}\n"
     ]
    }
   ],
   "source": [
    "# Q6.write a code to remove the key 'j' from dictionary d\n",
    "# output-: {'a':10,'b':300,'c':50,'d':100,'e':600,'i':11,'k':13,'l':14}\n",
    "del d['j']\n",
    "print(d)"
   ]
  },
  {
   "cell_type": "markdown",
   "metadata": {
    "id": "6KsxWOhGQqUP"
   },
   "source": [
    "# **Set**\n",
    "a = {1,2,3,4,5}\n",
    "b = {3,4,5,6,7,8,9}"
   ]
  },
  {
   "cell_type": "code",
   "execution_count": null,
   "metadata": {
    "colab": {
     "base_uri": "https://localhost:8080/"
    },
    "id": "DDIi2Y4cQpDV",
    "outputId": "eec88680-f939-409c-d8ca-11a63c8fafeb"
   },
   "outputs": [
    {
     "name": "stdout",
     "output_type": "stream",
     "text": [
      "{1, 2, 3, 4, 5, 6, 7, 8, 9}\n"
     ]
    }
   ],
   "source": [
    "# Q1. Write a code to perform union operation on a and b set\n",
    "a = {1,2,3,4,5}\n",
    "b = {3,4,5,6,7,8,9}\n",
    "print(a.union(b))"
   ]
  },
  {
   "cell_type": "code",
   "execution_count": null,
   "metadata": {
    "colab": {
     "base_uri": "https://localhost:8080/"
    },
    "id": "18nvpE5TQ5Hv",
    "outputId": "81729107-2746-4cfb-828e-c5c7e01b6556"
   },
   "outputs": [
    {
     "name": "stdout",
     "output_type": "stream",
     "text": [
      "{3, 4, 5}\n"
     ]
    }
   ],
   "source": [
    "# Q2. Write a code to perform intersection operation on set a and b\n",
    "print(a.intersection(b))"
   ]
  },
  {
   "cell_type": "code",
   "execution_count": null,
   "metadata": {
    "colab": {
     "base_uri": "https://localhost:8080/"
    },
    "id": "dkJrXGBkQ8uK",
    "outputId": "e63ac2d1-ae78-4bcb-f7eb-c6319f42be2c"
   },
   "outputs": [
    {
     "name": "stdout",
     "output_type": "stream",
     "text": [
      "{1, 2, 3, 4, 5, 6}\n"
     ]
    }
   ],
   "source": [
    "# Q3. Write a code to add 6, in set a\n",
    "a.add(6)\n",
    "print(a)"
   ]
  },
  {
   "cell_type": "markdown",
   "metadata": {
    "id": "NQ3j8HS9ShIy"
   },
   "source": [
    "# **Operators**"
   ]
  },
  {
   "cell_type": "code",
   "execution_count": null,
   "metadata": {
    "colab": {
     "base_uri": "https://localhost:8080/"
    },
    "id": "tgLgBYzZRBPT",
    "outputId": "3ce960cf-6a4c-4622-b84f-6951efa89e67"
   },
   "outputs": [
    {
     "name": "stdout",
     "output_type": "stream",
     "text": [
      "Enter the base of the triangle: 5\n",
      "Enter the height of the triangle: 2\n",
      "The area of the triangle is: 5.0\n"
     ]
    }
   ],
   "source": [
    "# Area of triangle (0.5*b*h)\n",
    "b = float(input(\"Enter the base of the triangle: \"))\n",
    "h = float(input(\"Enter the height of the triangle: \"))\n",
    "\n",
    "area = 0.5 * b * h\n",
    "\n",
    "print(\"The area of the triangle is:\", area)"
   ]
  },
  {
   "cell_type": "code",
   "execution_count": null,
   "metadata": {
    "colab": {
     "base_uri": "https://localhost:8080/"
    },
    "id": "zXtAI7X1S2xn",
    "outputId": "c93e0d90-19ab-4cf5-debb-640131d77deb"
   },
   "outputs": [
    {
     "name": "stdout",
     "output_type": "stream",
     "text": [
      "Enter the radius of the sphere: 5\n",
      "The volume of the sphere is: 523.3333333333334\n"
     ]
    }
   ],
   "source": [
    "# vol of sphere(4/3)*3.14*(r**3)\n",
    "r = float(input(\"Enter the radius of the sphere: \"))\n",
    "volume = (4/3) * 3.14 * (r**3)\n",
    "print(\"The volume of the sphere is:\", volume)"
   ]
  },
  {
   "cell_type": "code",
   "execution_count": null,
   "metadata": {
    "colab": {
     "base_uri": "https://localhost:8080/"
    },
    "id": "S1PJ1aClTGHu",
    "outputId": "be1552a6-29ba-4022-b17c-1e71dfc423b8"
   },
   "outputs": [
    {
     "name": "stdout",
     "output_type": "stream",
     "text": [
      "x = 5\n",
      "y = 10\n"
     ]
    }
   ],
   "source": [
    "# Swap the variable x=10,y=5\n",
    "x = 10\n",
    "y = 5\n",
    "x, y = y, x\n",
    "print(\"x =\", x)\n",
    "print(\"y =\", y)\n"
   ]
  },
  {
   "cell_type": "code",
   "execution_count": null,
   "metadata": {
    "colab": {
     "base_uri": "https://localhost:8080/"
    },
    "id": "Q-EDZ9sGSrYm",
    "outputId": "7d2c366b-53e3-4f97-c1a2-e0eb4ef8a08c"
   },
   "outputs": [
    {
     "name": "stdout",
     "output_type": "stream",
     "text": [
      "x is 5 & y is 10\n"
     ]
    }
   ],
   "source": [
    "#  o/p -: x is 5 & y is 10\n",
    "\n",
    "x = 10\n",
    "y = 5\n",
    "x, y = y, x\n",
    "print(\"x is\", x,\"& y is\",y)\n"
   ]
  },
  {
   "cell_type": "code",
   "execution_count": null,
   "metadata": {
    "colab": {
     "base_uri": "https://localhost:8080/"
    },
    "id": "bvNqlX83TWO0",
    "outputId": "ba8d6908-ad63-48cd-e59a-80c34eb2937b"
   },
   "outputs": [
    {
     "name": "stdout",
     "output_type": "stream",
     "text": [
      "Enter the first number: 50\n",
      "Enter the second number: 25\n",
      "Addition: 75.0\n",
      "Subtraction: 25.0\n",
      "Multiplication: 1250.0\n",
      "Division: 2.0\n",
      "Floor Division: 2.0\n",
      "Modulo: 0.0\n",
      "Exponentiation: 2.9802322387695315e+42\n"
     ]
    }
   ],
   "source": [
    "#  WAP which takes two numbers as input and it should calculate & display all the arithmetic operation\n",
    "\n",
    "\n",
    "num1 = float(input(\"Enter the first number: \"))\n",
    "num2 = float(input(\"Enter the second number: \"))\n",
    "\n",
    "addition = num1 + num2\n",
    "subtraction = num1 - num2\n",
    "multiplication = num1 * num2\n",
    "division = num1 / num2\n",
    "floor_division = num1 // num2\n",
    "modulo = num1 % num2\n",
    "exponentiation = num1 ** num2\n",
    "\n",
    "\n",
    "print(\"Addition:\", addition)\n",
    "print(\"Subtraction:\", subtraction)\n",
    "print(\"Multiplication:\", multiplication)\n",
    "print(\"Division:\", division)\n",
    "print(\"Floor Division:\", floor_division)\n",
    "print(\"Modulo:\", modulo)\n",
    "print(\"Exponentiation:\", exponentiation)\n",
    "\n"
   ]
  },
  {
   "cell_type": "markdown",
   "metadata": {
    "id": "6WEuNj5uUClO"
   },
   "source": [
    "# **Flow Control**"
   ]
  },
  {
   "cell_type": "code",
   "execution_count": null,
   "metadata": {
    "colab": {
     "base_uri": "https://localhost:8080/"
    },
    "id": "Ra_9WI8VT1Yl",
    "outputId": "6cb6a9fc-23b2-4df6-9c54-3791365f42d8"
   },
   "outputs": [
    {
     "name": "stdout",
     "output_type": "stream",
     "text": [
      "Enter an arithmetic operator (+, -, *, /, //, %, **): +\n",
      "Enter the first number: 5\n",
      "Enter the second number: 4\n",
      "Result: 9.0\n"
     ]
    }
   ],
   "source": [
    "# WAP which takes an arithmetic operators & 2 numbers, as an and do the calculation based on the input operator\n",
    "operator = input(\"Enter an arithmetic operator (+, -, *, /, //, %, **): \")\n",
    "num1 = float(input(\"Enter the first number: \"))\n",
    "num2 = float(input(\"Enter the second number: \"))\n",
    "\n",
    "if operator == '+':\n",
    "  result = num1 + num2\n",
    "elif operator == '-':\n",
    "  result = num1 - num2\n",
    "elif operator == '*':\n",
    "  result = num1 * num2\n",
    "elif operator == '/':\n",
    "  result = num1 / num2\n",
    "elif operator == '//':\n",
    "  result = num1 // num2\n",
    "elif operator == '%':\n",
    "  result = num1 % num2\n",
    "elif operator == '**':\n",
    "  result = num1 ** num2\n",
    "else:\n",
    "  print(\"Invalid operator entered.\")\n",
    "  result = None\n",
    "\n",
    "if result is not None:\n",
    "  print(\"Result:\", result)\n"
   ]
  },
  {
   "cell_type": "code",
   "execution_count": null,
   "metadata": {
    "colab": {
     "base_uri": "https://localhost:8080/"
    },
    "id": "TyjeRz5gUu_2",
    "outputId": "54f24592-b4e4-4562-b44e-56ae5456b8ea"
   },
   "outputs": [
    {
     "name": "stdout",
     "output_type": "stream",
     "text": [
      "Enter the base of the triangle: 2\n",
      "Enter the height of the triangle: 2\n",
      "The area of the triangle is: 2.0\n"
     ]
    }
   ],
   "source": [
    "# WAP to calculate area of triangle --> 0.5*b*h\n",
    "b = float(input(\"Enter the base of the triangle: \"))\n",
    "h = float(input(\"Enter the height of the triangle: \"))\n",
    "\n",
    "area = 0.5 * b * h\n",
    "\n",
    "print(\"The area of the triangle is:\", area)"
   ]
  },
  {
   "cell_type": "code",
   "execution_count": null,
   "metadata": {
    "colab": {
     "base_uri": "https://localhost:8080/"
    },
    "id": "Fs8KXr1-VEcO",
    "outputId": "e1bfb6ea-b883-4a1a-f355-70d9fdd37c2e"
   },
   "outputs": [
    {
     "name": "stdout",
     "output_type": "stream",
     "text": [
      "Enter the radius of the sphere: 5\n",
      "The volume of the sphere is: 523.3333333333334\n"
     ]
    }
   ],
   "source": [
    "# WAP to calculate vol of sphere --> (4/3)*3.14*(r**3)\n",
    "r = float(input(\"Enter the radius of the sphere: \"))\n",
    "volume = (4/3) * 3.14 * (r**3)\n",
    "print(\"The volume of the sphere is:\", volume)"
   ]
  },
  {
   "cell_type": "code",
   "execution_count": null,
   "metadata": {
    "colab": {
     "base_uri": "https://localhost:8080/"
    },
    "id": "Ye9KvZQJVNt2",
    "outputId": "c86cedb8-014a-4239-c438-763e1b837b3d"
   },
   "outputs": [
    {
     "name": "stdout",
     "output_type": "stream",
     "text": [
      "Enter a year: 2022\n",
      "2022 is not a leap year\n"
     ]
    }
   ],
   "source": [
    "# WAP for check a number is leap year or not by using following constraints-:\n",
    "# Constraints-:\n",
    "# 1. N div by 400 --> leap year\n",
    "# 2. N div by 4 , N not div by 100 --> leap year\n",
    "year = int(input(\"Enter a year: \"))\n",
    "\n",
    "if (year % 400 == 0) or (year % 4 == 0 and year % 100 != 0):\n",
    "  print(year, \"is a leap year\")\n",
    "else:\n",
    "  print(year, \"is not a leap year\")"
   ]
  },
  {
   "cell_type": "code",
   "execution_count": null,
   "metadata": {
    "colab": {
     "base_uri": "https://localhost:8080/"
    },
    "id": "HAdZG436Vjt5",
    "outputId": "8a61db2a-64ca-48aa-ad8e-4d770a9d99e4"
   },
   "outputs": [
    {
     "name": "stdout",
     "output_type": "stream",
     "text": [
      "Enter the mark: 45\n",
      "Grade: C\n"
     ]
    }
   ],
   "source": [
    "# WAP to display the grade given a mark by using following constraint-:\n",
    "# Constraints -:\n",
    "# 75 & above -: A grade\n",
    "# 60-74 -: B grade\n",
    "# 35-59 -: C grade\n",
    "# Below 35 -: Fail\n",
    "mark = int(input(\"Enter the mark: \"))\n",
    "\n",
    "if mark >= 75:\n",
    "  grade = \"A\"\n",
    "elif mark >= 60:\n",
    "  grade = \"B\"\n",
    "elif mark >= 35:\n",
    "  grade = \"C\"\n",
    "else:\n",
    "  grade = \"Fail\"\n",
    "\n",
    "print(\"Grade:\", grade)"
   ]
  },
  {
   "cell_type": "code",
   "execution_count": null,
   "metadata": {
    "colab": {
     "base_uri": "https://localhost:8080/"
    },
    "id": "OWtoZ8oZVtX-",
    "outputId": "c454f1d6-1480-4c6d-ed88-0ace0a8bd347"
   },
   "outputs": [
    {
     "name": "stdout",
     "output_type": "stream",
     "text": [
      "Enter a number: 2\n",
      "2 is even\n"
     ]
    }
   ],
   "source": [
    "# WAP to check weather the number is even or odd\n",
    "# Constraints-:\n",
    "# N div by 2 → even\n",
    "num = int(input(\"Enter a number: \"))\n",
    "if num % 2 == 0:\n",
    "  print(num,\"is even\")\n",
    "else:\n",
    "  print(num,\"is odd\")"
   ]
  },
  {
   "cell_type": "markdown",
   "metadata": {
    "id": "cU1Y1eWXVz4W"
   },
   "source": [
    "# **LOOP's**"
   ]
  },
  {
   "cell_type": "code",
   "execution_count": null,
   "metadata": {
    "colab": {
     "base_uri": "https://localhost:8080/"
    },
    "id": "lGlNX_PfV3Mi",
    "outputId": "a3879e80-828e-4fb3-ed7f-b960de44cd7a"
   },
   "outputs": [
    {
     "name": "stdout",
     "output_type": "stream",
     "text": [
      "1\n",
      "2\n",
      "3\n",
      "4\n",
      "5\n",
      "6\n",
      "7\n",
      "8\n",
      "9\n",
      "10\n"
     ]
    }
   ],
   "source": [
    "# WAP to print 1-10 using for loop\n",
    "for i in range(1,11):\n",
    "  print(i)"
   ]
  },
  {
   "cell_type": "code",
   "execution_count": null,
   "metadata": {
    "colab": {
     "base_uri": "https://localhost:8080/"
    },
    "id": "B0RplpiJWJzL",
    "outputId": "2c1cdfb7-637a-4de6-aad7-8b4c80842f79"
   },
   "outputs": [
    {
     "name": "stdout",
     "output_type": "stream",
     "text": [
      "10\n",
      "9\n",
      "8\n",
      "7\n",
      "6\n",
      "5\n",
      "4\n",
      "3\n",
      "2\n",
      "1\n"
     ]
    }
   ],
   "source": [
    "# WAP to print 10-1 using for loop\n",
    "for i in range(10,0,-1):\n",
    "  print(i)"
   ]
  },
  {
   "cell_type": "code",
   "execution_count": null,
   "metadata": {
    "colab": {
     "base_uri": "https://localhost:8080/"
    },
    "id": "eZNYc-JJWPsl",
    "outputId": "8eabcc05-cf13-4553-ab47-8b7d24d5a99b"
   },
   "outputs": [
    {
     "name": "stdout",
     "output_type": "stream",
     "text": [
      "Enter the number of terms: 5\n",
      "0\n",
      "1\n",
      "1\n",
      "2\n",
      "3\n"
     ]
    }
   ],
   "source": [
    "#WAP to print nth fibonacci series\n",
    "n = int(input(\"Enter the number of terms: \"))\n",
    "a, b = 0, 1\n",
    "for i in range(n):\n",
    "  print(a)\n",
    "  a, b = b, a + b"
   ]
  },
  {
   "cell_type": "code",
   "execution_count": null,
   "metadata": {
    "colab": {
     "base_uri": "https://localhost:8080/"
    },
    "id": "OCtIxgOFWUKh",
    "outputId": "c343279e-1a05-45a4-e5fa-a59345ea1003"
   },
   "outputs": [
    {
     "name": "stdout",
     "output_type": "stream",
     "text": [
      "Enter a number: 5\n",
      "Factorial of 5 is 120\n"
     ]
    }
   ],
   "source": [
    "#WAP to calculate the factorial of number using for loop\n",
    "num = int(input(\"Enter a number: \"))\n",
    "factorial = 1\n",
    "for i in range(1, num + 1):\n",
    "  factorial *= i\n",
    "print(\"Factorial of\", num, \"is\", factorial)"
   ]
  },
  {
   "cell_type": "code",
   "execution_count": null,
   "metadata": {
    "colab": {
     "base_uri": "https://localhost:8080/"
    },
    "id": "elGczcq-WjFz",
    "outputId": "aa81c17f-b9f9-41f7-dbc5-bf19a1d8a4f2"
   },
   "outputs": [
    {
     "name": "stdout",
     "output_type": "stream",
     "text": [
      "Enter the number of terms: 5\n",
      "Sum of first 5 natural numbers is 15\n"
     ]
    }
   ],
   "source": [
    "#WAP to add 1st nth natural using for loop\n",
    "n = int(input(\"Enter the number of terms: \"))\n",
    "sum = 0\n",
    "for i in range(1, n + 1):\n",
    "  sum += i\n",
    "print(\"Sum of first\", n, \"natural numbers is\", sum)"
   ]
  },
  {
   "cell_type": "code",
   "execution_count": null,
   "metadata": {
    "colab": {
     "base_uri": "https://localhost:8080/"
    },
    "id": "VWt30vVHWtyg",
    "outputId": "aba80e4c-c465-4d6b-fc56-996a7c7cd7fa"
   },
   "outputs": [
    {
     "name": "stdout",
     "output_type": "stream",
     "text": [
      "Enter a number: 2\n",
      "2 x 1 = 2\n",
      "2 x 2 = 4\n",
      "2 x 3 = 6\n",
      "2 x 4 = 8\n",
      "2 x 5 = 10\n",
      "2 x 6 = 12\n",
      "2 x 7 = 14\n",
      "2 x 8 = 16\n",
      "2 x 9 = 18\n",
      "2 x 10 = 20\n"
     ]
    }
   ],
   "source": [
    "# WAP to print the table of given N using for loop\n",
    "num = int(input(\"Enter a number: \"))\n",
    "for i in range(1, 11):\n",
    "  print(num, \"x\", i, \"=\", num * i)"
   ]
  },
  {
   "cell_type": "code",
   "execution_count": null,
   "metadata": {
    "colab": {
     "base_uri": "https://localhost:8080/"
    },
    "id": "ovKrYHX_kdlH",
    "outputId": "d40a09e4-65f1-45de-eb1f-0f73db88b639"
   },
   "outputs": [
    {
     "name": "stdout",
     "output_type": "stream",
     "text": [
      "1\n",
      "2\n",
      "3\n",
      "4\n",
      "5\n",
      "6\n",
      "7\n",
      "8\n",
      "9\n",
      "10\n"
     ]
    }
   ],
   "source": [
    "# WAP to print 1-10 using while loop\n",
    "i = 1\n",
    "while(i<=10):\n",
    "  print(i)\n",
    "  i+=1\n"
   ]
  },
  {
   "cell_type": "code",
   "execution_count": null,
   "metadata": {
    "colab": {
     "base_uri": "https://localhost:8080/"
    },
    "id": "huXhdqokkzZB",
    "outputId": "0aa3892e-ed72-49a9-ac8c-6057a6e6c9d0"
   },
   "outputs": [
    {
     "name": "stdout",
     "output_type": "stream",
     "text": [
      "10\n",
      "9\n",
      "8\n",
      "7\n",
      "6\n",
      "5\n",
      "4\n",
      "3\n",
      "2\n",
      "1\n"
     ]
    }
   ],
   "source": [
    "# WAP to print 10-1 using while loop\n",
    "i = 10\n",
    "while(i>=1):\n",
    "  print(i)\n",
    "  i-=1"
   ]
  },
  {
   "cell_type": "code",
   "execution_count": null,
   "metadata": {
    "colab": {
     "base_uri": "https://localhost:8080/"
    },
    "id": "wMMtu0V2k5U7",
    "outputId": "3c5aff34-cddf-4c33-da5f-b647f8d6153f"
   },
   "outputs": [
    {
     "name": "stdout",
     "output_type": "stream",
     "text": [
      "Enter a number: 5\n",
      "Factorial of 5 is 120\n"
     ]
    }
   ],
   "source": [
    "#WAP to calculate factorial of given input n using while loop\n",
    "n = int(input(\"Enter a number: \"))\n",
    "fact = 1\n",
    "i = 1\n",
    "while i <= n:\n",
    "  fact *= i\n",
    "  i += 1\n",
    "print(\"Factorial of\", n, \"is\", fact)"
   ]
  },
  {
   "cell_type": "code",
   "execution_count": null,
   "metadata": {
    "colab": {
     "base_uri": "https://localhost:8080/"
    },
    "id": "8BkGhrADlAkr",
    "outputId": "b37ee990-1ccf-4fc4-acf3-ffebc8ece997"
   },
   "outputs": [
    {
     "name": "stdout",
     "output_type": "stream",
     "text": [
      "Enter the number of terms: 2\n",
      "Sum of first 2 natural numbers is 3\n"
     ]
    }
   ],
   "source": [
    "#WAP to print the sum of 1st nth natural numbers using while loop\n",
    "n = int(input(\"Enter the number of terms: \"))\n",
    "sum = 0\n",
    "i = 1\n",
    "while i <= n:\n",
    "  sum += i\n",
    "  i += 1\n",
    "print(\"Sum of first\", n, \"natural numbers is\", sum)"
   ]
  },
  {
   "cell_type": "code",
   "execution_count": null,
   "metadata": {
    "colab": {
     "base_uri": "https://localhost:8080/"
    },
    "id": "YjyhYjvIlTMt",
    "outputId": "1028ba84-88c4-43cd-e568-dd506c852dce"
   },
   "outputs": [
    {
     "name": "stdout",
     "output_type": "stream",
     "text": [
      "Enter the number of terms: 5\n",
      "0\n",
      "1\n",
      "1\n",
      "2\n",
      "3\n"
     ]
    }
   ],
   "source": [
    "#WAP to print fibonacci series till nth input value using while loop\n",
    "n = int(input(\"Enter the number of terms: \"))\n",
    "a, b = 0, 1\n",
    "count = 0\n",
    "while count < n:\n",
    "  print(a)\n",
    "  a, b = b, a + b\n",
    "  count += 1"
   ]
  },
  {
   "cell_type": "code",
   "execution_count": null,
   "metadata": {
    "colab": {
     "base_uri": "https://localhost:8080/"
    },
    "id": "G5ZrjA0xkoNx",
    "outputId": "59a52b49-7ff8-461e-a321-b8a48af2bdae"
   },
   "outputs": [
    {
     "name": "stdout",
     "output_type": "stream",
     "text": [
      "Enter a number: 4\n",
      "4 x 1 = 4\n",
      "4 x 2 = 8\n",
      "4 x 3 = 12\n",
      "4 x 4 = 16\n",
      "4 x 5 = 20\n",
      "4 x 6 = 24\n",
      "4 x 7 = 28\n",
      "4 x 8 = 32\n",
      "4 x 9 = 36\n",
      "4 x 10 = 40\n"
     ]
    }
   ],
   "source": [
    "# WAP to print the table of given N using while loop\n",
    "\n",
    "num = int(input(\"Enter a number: \"))\n",
    "i = 1\n",
    "while i <= 10:\n",
    "  print(num, \"x\", i, \"=\", num * i)\n",
    "  i += 1\n"
   ]
  },
  {
   "cell_type": "code",
   "execution_count": null,
   "metadata": {
    "colab": {
     "base_uri": "https://localhost:8080/"
    },
    "id": "-eOj1wp4lqvH",
    "outputId": "d90a23eb-088c-4865-871e-9907cd5c16a7"
   },
   "outputs": [
    {
     "name": "stdout",
     "output_type": "stream",
     "text": [
      "1904\n",
      "1908\n",
      "1912\n",
      "1916\n",
      "1920\n",
      "1924\n",
      "1928\n",
      "1932\n",
      "1936\n",
      "1940\n",
      "1944\n",
      "1948\n",
      "1952\n",
      "1956\n",
      "1960\n",
      "1964\n",
      "1968\n",
      "1972\n",
      "1976\n",
      "1980\n",
      "1984\n",
      "1988\n",
      "1992\n",
      "1996\n",
      "2000\n",
      "2004\n",
      "2008\n",
      "2012\n",
      "2016\n",
      "2020\n",
      "2024\n",
      "2028\n"
     ]
    }
   ],
   "source": [
    "# WAP to list out all the leap years from 1900-2030 using for loop\n",
    "for year in range(1900, 2031):\n",
    "  if (year % 400 == 0) or (year % 4 == 0 and year % 100 != 0):\n",
    "    print(year)\n"
   ]
  },
  {
   "cell_type": "code",
   "execution_count": null,
   "metadata": {
    "colab": {
     "base_uri": "https://localhost:8080/"
    },
    "id": "PETZtLnol2vG",
    "outputId": "be47f984-c182-4524-95d3-656f3f792594"
   },
   "outputs": [
    {
     "name": "stdout",
     "output_type": "stream",
     "text": [
      "Even numbers: [2, 4, 6, 8, 10, 12, 14, 16, 18, 20, 22, 24, 26, 28, 30, 32, 34, 36, 38, 40, 42, 44, 46, 48, 50, 52, 54, 56, 58, 60, 62, 64, 66, 68, 70, 72, 74, 76, 78, 80, 82, 84, 86, 88, 90, 92, 94, 96, 98, 100]\n",
      "Odd numbers: [1, 3, 5, 7, 9, 11, 13, 15, 17, 19, 21, 23, 25, 27, 29, 31, 33, 35, 37, 39, 41, 43, 45, 47, 49, 51, 53, 55, 57, 59, 61, 63, 65, 67, 69, 71, 73, 75, 77, 79, 81, 83, 85, 87, 89, 91, 93, 95, 97, 99]\n"
     ]
    }
   ],
   "source": [
    "# WAP to give all the even and odd number in list from 1-100 using for loop\n",
    "\n",
    "even_numbers = []\n",
    "odd_numbers = []\n",
    "\n",
    "for num in range(1, 101):\n",
    "  if num % 2 == 0:\n",
    "    even_numbers.append(num)\n",
    "  else:\n",
    "    odd_numbers.append(num)\n",
    "\n",
    "print(\"Even numbers:\", even_numbers)\n",
    "print(\"Odd numbers:\", odd_numbers)\n"
   ]
  },
  {
   "cell_type": "code",
   "execution_count": null,
   "metadata": {
    "colab": {
     "base_uri": "https://localhost:8080/"
    },
    "id": "vqr9WopWmF9e",
    "outputId": "fffa7497-0b0a-4a72-ef4c-b021427b28ae"
   },
   "outputs": [
    {
     "name": "stdout",
     "output_type": "stream",
     "text": [
      "6457\n"
     ]
    }
   ],
   "source": [
    "# wap to reverse a number\n",
    "# input -: 7546\n",
    "# ouput -: 6457\n",
    "\n",
    "num = 7546\n",
    "reversed_num = 0\n",
    "\n",
    "while num > 0:\n",
    "  digit = num % 10\n",
    "  reversed_num = reversed_num * 10 + digit\n",
    "  num //= 10\n",
    "\n",
    "print(reversed_num)\n"
   ]
  },
  {
   "cell_type": "code",
   "execution_count": null,
   "metadata": {
    "colab": {
     "base_uri": "https://localhost:8080/"
    },
    "id": "vU1hFBgnmZgW",
    "outputId": "808ff840-2d8b-4595-99ef-6ce447646e43"
   },
   "outputs": [
    {
     "name": "stdout",
     "output_type": "stream",
     "text": [
      "Enter a number: 5\n",
      "5 is a palindrome number\n"
     ]
    }
   ],
   "source": [
    "# WAP to check whether the given number is palindrome or not\n",
    "num = int(input(\"Enter a number: \"))\n",
    "temp = num\n",
    "reversed_num = 0\n",
    "\n",
    "while temp > 0:\n",
    "  digit = temp % 10\n",
    "  reversed_num = reversed_num * 10 + digit\n",
    "  temp //= 10\n",
    "\n",
    "if num == reversed_num:\n",
    "  print(num, \"is a palindrome number\")\n",
    "else:\n",
    "  print(num, \"is not a palindrome number\")\n"
   ]
  },
  {
   "cell_type": "code",
   "execution_count": null,
   "metadata": {
    "colab": {
     "base_uri": "https://localhost:8080/"
    },
    "id": "ssS8iWVlmh2n",
    "outputId": "99fc204d-1256-4c46-c9c7-b49527123513"
   },
   "outputs": [
    {
     "name": "stdout",
     "output_type": "stream",
     "text": [
      "Enter a number: 153\n",
      "153 is an Armstrong number\n"
     ]
    }
   ],
   "source": [
    "# WAP to check whether the given number is armstrong or not\n",
    "\n",
    "num = int(input(\"Enter a number: \"))\n",
    "order = len(str(num))\n",
    "sum = 0\n",
    "temp = num\n",
    "while temp > 0:\n",
    "  digit = temp % 10\n",
    "  sum += digit ** order\n",
    "  temp //= 10\n",
    "\n",
    "if num == sum:\n",
    "  print(num, \"is an Armstrong number\")\n",
    "else:\n",
    "  print(num, \"is not an Armstrong number\")\n",
    "\n"
   ]
  },
  {
   "cell_type": "code",
   "execution_count": null,
   "metadata": {
    "colab": {
     "base_uri": "https://localhost:8080/"
    },
    "id": "A-DD8jfxmuSW",
    "outputId": "93f422f4-dfb5-473f-a148-79b10cbdeb2c"
   },
   "outputs": [
    {
     "name": "stdout",
     "output_type": "stream",
     "text": [
      "Enter a number: 153\n",
      "153 is not a strong number\n"
     ]
    }
   ],
   "source": [
    "# WAP to check whether the given number is Strong or not\n",
    "\n",
    "num = int(input(\"Enter a number: \"))\n",
    "sum1 = 0\n",
    "temp = num\n",
    "while temp > 0:\n",
    "  digit = temp % 10\n",
    "  fact = 1\n",
    "  for i in range(1, digit + 1):\n",
    "    fact *= i\n",
    "  sum1 += fact\n",
    "  temp //= 10\n",
    "if num == sum1:\n",
    "  print(num, \"is a strong number\")\n",
    "else:\n",
    "  print(num, \"is not a strong number\")\n",
    "\n"
   ]
  },
  {
   "cell_type": "code",
   "execution_count": null,
   "metadata": {
    "colab": {
     "base_uri": "https://localhost:8080/"
    },
    "id": "6c8C6rbDm76k",
    "outputId": "1f13eb7f-efa0-44e5-bf28-f157fd1b9072"
   },
   "outputs": [
    {
     "name": "stdout",
     "output_type": "stream",
     "text": [
      "Enter a number: 4\n",
      "4 is a Neon number\n"
     ]
    }
   ],
   "source": [
    "# WAP to check whether the given number is Neon or not\n",
    "\n",
    "num = int(input(\"Enter a number: \"))\n",
    "sum1 = 0\n",
    "temp = num\n",
    "while temp > 0:\n",
    "  digit = temp % 10\n",
    "  sum1 += digit\n",
    "  temp //= 10\n",
    "if num % sum1 == 0:\n",
    "  print(num, \"is a Neon number\")\n",
    "else:\n",
    "  print(num, \"is not a Neon number\")\n"
   ]
  },
  {
   "cell_type": "code",
   "execution_count": null,
   "metadata": {
    "colab": {
     "base_uri": "https://localhost:8080/"
    },
    "id": "DmICEvpPnKLX",
    "outputId": "66501b84-72d5-44f0-caae-32e9bc5fa5d6"
   },
   "outputs": [
    {
     "name": "stdout",
     "output_type": "stream",
     "text": [
      "Enter a number: 6\n",
      "6 is a perfect number\n"
     ]
    }
   ],
   "source": [
    "#  WAP to check whether the given number is perfect or not\n",
    "\n",
    "num = int(input(\"Enter a number: \"))\n",
    "sum1 = 0\n",
    "for i in range(1, num):\n",
    "  if num % i == 0:\n",
    "    sum1 += i\n",
    "if sum1 == num:\n",
    "  print(num, \"is a perfect number\")\n",
    "else:\n",
    "  print(num, \"is not a perfect number\")\n"
   ]
  },
  {
   "cell_type": "code",
   "execution_count": null,
   "metadata": {
    "colab": {
     "base_uri": "https://localhost:8080/"
    },
    "id": "3Va73sm-oCuh",
    "outputId": "c3c22416-6d2e-4417-93ee-f1895093a984"
   },
   "outputs": [
    {
     "name": "stdout",
     "output_type": "stream",
     "text": [
      "Enter the element to search: 14\n",
      "Element is present at index 7\n"
     ]
    }
   ],
   "source": [
    "# WAP to perform linear Search\n",
    "\n",
    "def linear_search(arr, x):\n",
    "  for i in range(len(arr)):\n",
    "    if arr[i] == x:\n",
    "      return i\n",
    "  return -1\n",
    "\n",
    "arr = [2,5,7,9,11,1,22,14]\n",
    "x = int(input(\"Enter the element to search: \"))\n",
    "\n",
    "result = linear_search(arr, x)\n",
    "\n",
    "if result != -1:\n",
    "  print(\"Element is present at index\", result)\n",
    "else:\n",
    "  print(\"Element is not present in array\")\n"
   ]
  },
  {
   "cell_type": "code",
   "execution_count": null,
   "metadata": {
    "colab": {
     "base_uri": "https://localhost:8080/"
    },
    "id": "a2YmIZibqns6",
    "outputId": "2ad76ce5-b1e6-4c57-81c7-695b4a80e254"
   },
   "outputs": [
    {
     "name": "stdout",
     "output_type": "stream",
     "text": [
      "Enter the element to search: 2\n",
      "Element 2 is present at index 0.\n"
     ]
    }
   ],
   "source": [
    "#Wap to perform Binary Search\n",
    "def binary_search(arr, x):\n",
    "    left, right = 0, len(arr) - 1\n",
    "\n",
    "    while left <= right:\n",
    "        mid = (left + right) // 2\n",
    "\n",
    "        if arr[mid] == x:\n",
    "            return mid\n",
    "        elif arr[mid] < x:\n",
    "            left = mid + 1\n",
    "        else:\n",
    "            right = mid - 1\n",
    "    return -1\n",
    "\n",
    "sorted_list = [2, 3, 4, 10, 40]\n",
    "element_to_search = int(input(\"Enter the element to search: \"))\n",
    "\n",
    "result = binary_search(sorted_list, element_to_search)\n",
    "\n",
    "if result != -1:\n",
    "    print(f\"Element {element_to_search} is present at index {result}.\")\n",
    "else:\n",
    "    print(f\"Element {element_to_search} is not present in the list.\")\n"
   ]
  },
  {
   "cell_type": "code",
   "execution_count": null,
   "metadata": {
    "colab": {
     "base_uri": "https://localhost:8080/"
    },
    "id": "sZUnrAaer29M",
    "outputId": "950e6d41-f92e-47fd-b07d-985ce6d404eb"
   },
   "outputs": [
    {
     "name": "stdout",
     "output_type": "stream",
     "text": [
      "Sorted array is: [11, 12, 22, 25, 34, 64, 90]\n"
     ]
    }
   ],
   "source": [
    "#Wap to perform BubbleSort\n",
    "def bubble_sort(arr):\n",
    "    n = len(arr)\n",
    "    for i in range(n):\n",
    "        for j in range(0, n - i - 1):\n",
    "            if arr[j] > arr[j + 1]:\n",
    "                arr[j], arr[j + 1] = arr[j + 1], arr[j]\n",
    "\n",
    "arr = [64, 34, 25, 12, 22, 11, 90]\n",
    "bubble_sort(arr)\n",
    "\n",
    "print(\"Sorted array is:\", arr)\n"
   ]
  },
  {
   "cell_type": "code",
   "execution_count": null,
   "metadata": {
    "colab": {
     "base_uri": "https://localhost:8080/"
    },
    "id": "xYwHaScysPlz",
    "outputId": "48ecc47e-2b53-4761-8d7d-20b9b3baa59f"
   },
   "outputs": [
    {
     "name": "stdout",
     "output_type": "stream",
     "text": [
      "Given array is: [12, 11, 13, 5, 6, 7]\n",
      "Sorted array is: [5, 6, 7, 11, 12, 13]\n"
     ]
    }
   ],
   "source": [
    "#Wap to perform MergeSort\n",
    "def merge_sort(arr):\n",
    "    if len(arr) <= 1:\n",
    "        return arr\n",
    "    mid = len(arr) // 2\n",
    "    left_half = arr[:mid]\n",
    "    right_half = arr[mid:]\n",
    "\n",
    "    left_half = merge_sort(left_half)\n",
    "    right_half = merge_sort(right_half)\n",
    "\n",
    "    return merge(left_half, right_half)\n",
    "\n",
    "def merge(left, right):\n",
    "    result = []\n",
    "    i = j = 0\n",
    "\n",
    "    while i < len(left) and j < len(right):\n",
    "        if left[i] < right[j]:\n",
    "            result.append(left[i])\n",
    "            i += 1\n",
    "        else:\n",
    "            result.append(right[j])\n",
    "            j += 1\n",
    "\n",
    "    result.extend(left[i:])\n",
    "    result.extend(right[j:])\n",
    "    return result\n",
    "\n",
    "arr = [12, 11, 13, 5, 6, 7]\n",
    "print(\"Given array is:\", arr)\n",
    "sorted_arr = merge_sort(arr)\n",
    "print(\"Sorted array is:\", sorted_arr)\n"
   ]
  },
  {
   "cell_type": "code",
   "execution_count": null,
   "metadata": {
    "id": "knEWNPRKszc-"
   },
   "outputs": [],
   "source": []
  }
 ],
 "metadata": {
  "colab": {
   "collapsed_sections": [
    "z2bgXhM2gGDE",
    "Jg_fIxOhp5Ot",
    "0TIfYDkmr5B0",
    "mFoFN3Z8PAd4",
    "6KsxWOhGQqUP",
    "NQ3j8HS9ShIy",
    "6WEuNj5uUClO",
    "cU1Y1eWXVz4W"
   ],
   "provenance": []
  },
  "kernelspec": {
   "display_name": "Python 3 (ipykernel)",
   "language": "python",
   "name": "python3"
  },
  "language_info": {
   "codemirror_mode": {
    "name": "ipython",
    "version": 3
   },
   "file_extension": ".py",
   "mimetype": "text/x-python",
   "name": "python",
   "nbconvert_exporter": "python",
   "pygments_lexer": "ipython3",
   "version": "3.12.4"
  }
 },
 "nbformat": 4,
 "nbformat_minor": 4
}
