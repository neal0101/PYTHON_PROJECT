{
 "cells": [
  {
   "cell_type": "code",
   "execution_count": 1,
   "id": "41238d9a-1dee-4f88-8878-9b2221d38aa7",
   "metadata": {},
   "outputs": [
    {
     "name": "stdout",
     "output_type": "stream",
     "text": [
      "square1 is root 1.0000\n",
      "square2 is root 1.4142\n",
      "square3 is root 1.7321\n",
      "square4 is root 2.0000\n",
      "square5 is root 2.2361\n",
      "square6 is root 2.4495\n",
      "square7 is root 2.6458\n",
      "square8 is root 2.8284\n",
      "square9 is root 3.0000\n"
     ]
    }
   ],
   "source": [
    "#.1 Python Program to Find the Square Root.\n",
    "for i in range (1,10):\n",
    "    square_root=i**0.5\n",
    "    print(f\"square{i} is root {square_root:.4f}\")\n"
   ]
  },
  {
   "cell_type": "code",
   "execution_count": 2,
   "id": "8a25aa8e-89ad-4dce-a468-294dac7d9c95",
   "metadata": {},
   "outputs": [
    {
     "name": "stdout",
     "output_type": "stream",
     "text": [
      "10.0\n"
     ]
    }
   ],
   "source": [
    "#.2 Python Program to Calculate the Area of a Triangle\n",
    "b,h=5,4\n",
    "t=0.5*b*h\n",
    "print(t)"
   ]
  },
  {
   "cell_type": "code",
   "execution_count": 3,
   "id": "31a77215-6ed4-4fba-b041-9b8b3dd54bda",
   "metadata": {},
   "outputs": [
    {
     "name": "stdout",
     "output_type": "stream",
     "text": [
      "x= 10\n",
      "y= 5\n"
     ]
    }
   ],
   "source": [
    "#.3 Python Program to Swap Two Variables\n",
    "x=5\n",
    "y=10\n",
    "\n",
    "x,y=y,x\n",
    "\n",
    "print(\"x=\",x)\n",
    "print(\"y=\",y)"
   ]
  },
  {
   "cell_type": "code",
   "execution_count": 6,
   "id": "dde5f3b8-f561-49ad-92e1-16d117c2558b",
   "metadata": {},
   "outputs": [
    {
     "name": "stdin",
     "output_type": "stream",
     "text": [
      "enter the kilometers 4\n"
     ]
    },
    {
     "name": "stdout",
     "output_type": "stream",
     "text": [
      "4kilometers to miles 2.48548476\n"
     ]
    }
   ],
   "source": [
    "#.4 Python Program to Covert Kilometers to Miles.\n",
    "k=int(input(\"enter the kilometers\"))\n",
    "print(f\"{k}kilometers to miles\",k*0.62137119)"
   ]
  },
  {
   "cell_type": "code",
   "execution_count": 8,
   "id": "72f641d5-1bfe-4a34-b25d-26c061b7b2ea",
   "metadata": {},
   "outputs": [
    {
     "name": "stdin",
     "output_type": "stream",
     "text": [
      "enter the celsius 5\n"
     ]
    },
    {
     "name": "stdout",
     "output_type": "stream",
     "text": [
      "5.0celsius fahrenheit 41.0\n"
     ]
    }
   ],
   "source": [
    "#.5 Python Program to Convert Celsius to Fahrenheit.\n",
    "c=float(input(\"enter the celsius\"))\n",
    "print(f\"{c}celsius fahrenheit\",(c*1.8)+32)\n"
   ]
  },
  {
   "cell_type": "code",
   "execution_count": 11,
   "id": "c2414ff9-5694-4f5a-b4aa-2c92d80a941a",
   "metadata": {},
   "outputs": [
    {
     "name": "stdin",
     "output_type": "stream",
     "text": [
      "enter the number 0\n"
     ]
    },
    {
     "name": "stdout",
     "output_type": "stream",
     "text": [
      "0 is zero\n"
     ]
    }
   ],
   "source": [
    "#.6 Python Program to Check if a number is Positive,Negative or 0\n",
    "c=int(input(\"enter the number\"))\n",
    "if 0<c:\n",
    "    print(f\"{c} is positive\")\n",
    "elif 0>c:\n",
    "    print(f\"{c} is negatvive\")\n",
    "else:\n",
    "    print(f\"{c} is zero\")\n",
    "    "
   ]
  },
  {
   "cell_type": "code",
   "execution_count": 13,
   "id": "4c379446-b346-4818-80df-0756ecd6c935",
   "metadata": {},
   "outputs": [
    {
     "name": "stdin",
     "output_type": "stream",
     "text": [
      "enter the number 4\n"
     ]
    },
    {
     "name": "stdout",
     "output_type": "stream",
     "text": [
      "4 is even\n"
     ]
    }
   ],
   "source": [
    "#.7 Python Program to check if a Number is Odd or Even\n",
    "n=int(input(\"enter the number\"))\n",
    "if n%2==0:\n",
    "    print(f\"{n} is even\")\n",
    "else:\n",
    "    print(f\"{n} is odd\")"
   ]
  },
  {
   "cell_type": "code",
   "execution_count": 15,
   "id": "6f550057-bee7-4a6b-bd2f-263f388eb7e6",
   "metadata": {},
   "outputs": [
    {
     "name": "stdout",
     "output_type": "stream",
     "text": [
      "9 is large\n"
     ]
    }
   ],
   "source": [
    "#.8 Python Program to Find the Largest Among Three Numbers.\n",
    "n1,n2,n3=7,9,7\n",
    "\n",
    "if n1>n2 and n1>n3:\n",
    "    print(f\"{n1} is large\")\n",
    "elif n2>n1 and n2>n3:\n",
    "    print(f\"{n2} is large\")\n",
    "elif n3>n1 and n3>n2:\n",
    "    print(f\"{n3} is large\")\n",
    "elif n3==n2 and n3==n1:\n",
    "    print(f\"{n3,n1,n2}is all are equal\")\n",
    "else:\n",
    "    print(\"enter the correct number\")\n"
   ]
  },
  {
   "cell_type": "code",
   "execution_count": 16,
   "id": "aad89a59-99de-49a1-8692-3150569d0185",
   "metadata": {},
   "outputs": [
    {
     "name": "stdin",
     "output_type": "stream",
     "text": [
      "enter the number 3\n"
     ]
    },
    {
     "name": "stdout",
     "output_type": "stream",
     "text": [
      "3 is non prime number\n"
     ]
    }
   ],
   "source": [
    "#.9 Python Program to Check Prime Number.\n",
    "n=int(input(\"enter the number\"))\n",
    "if n%2==0:\n",
    "    print(f\"{n} is prime number\")\n",
    "else:\n",
    "    print(f\"{n} is non prime number\")"
   ]
  },
  {
   "cell_type": "code",
   "execution_count": 19,
   "id": "a224554d-0649-48b4-8459-b6a796faa961",
   "metadata": {},
   "outputs": [
    {
     "name": "stdout",
     "output_type": "stream",
     "text": [
      "2\n",
      "3\n",
      "5\n",
      "7\n"
     ]
    }
   ],
   "source": [
    "#.10 Python Program to Print all Prime Numbers in an Interval.\n",
    "for num in range(1,10):\n",
    "    if num>1:\n",
    "        for i in range(2,num):\n",
    "            if (num%i)==0:\n",
    "                break\n",
    "        else:\n",
    "             print(num)\n"
   ]
  },
  {
   "cell_type": "code",
   "execution_count": 20,
   "id": "aba1ebf5-618a-4def-8545-6c20be0d0057",
   "metadata": {},
   "outputs": [
    {
     "name": "stdout",
     "output_type": "stream",
     "text": [
      "120\n"
     ]
    }
   ],
   "source": [
    "#.11 Python Program to Find the Factorial of a Number.\n",
    "a=5\n",
    "fact=1\n",
    "for i in range (1,a+1):\n",
    "    fact=fact*i\n",
    "print(fact)"
   ]
  },
  {
   "cell_type": "code",
   "execution_count": 22,
   "id": "51c03b7a-3443-40b3-aaf7-06c0f18d599a",
   "metadata": {},
   "outputs": [
    {
     "name": "stdin",
     "output_type": "stream",
     "text": [
      "enter the number 8\n"
     ]
    },
    {
     "name": "stdout",
     "output_type": "stream",
     "text": [
      "8\n",
      "16\n",
      "24\n",
      "32\n",
      "40\n",
      "48\n",
      "56\n",
      "64\n",
      "72\n",
      "80\n"
     ]
    }
   ],
   "source": [
    "#.12 Python Program to Display the Multiplication Table Code.\n",
    "n=int(input(\"enter the number\"))\n",
    "for i in range (1,11):\n",
    "    print(i*n)"
   ]
  },
  {
   "cell_type": "code",
   "execution_count": 24,
   "id": "e8032188-b35d-4a7d-a1ee-3e9a5edb3cc9",
   "metadata": {},
   "outputs": [
    {
     "name": "stdin",
     "output_type": "stream",
     "text": [
      "enter the number 50\n"
     ]
    },
    {
     "name": "stdout",
     "output_type": "stream",
     "text": [
      "no\n"
     ]
    }
   ],
   "source": [
    "#.13 Python Program to Check Amstrong Number.\n",
    "a=int(input(\"enter the number\"))\n",
    "s=0\n",
    "temp=a\n",
    "#while temp>0:\n",
    "#     d=temp%10\n",
    "#     s+=d**len(b)\n",
    "#     temp//=10\n",
    "\n",
    "for i in range (temp,0,-1):\n",
    "    d=temp%10\n",
    "    s+=d**3\n",
    "    temp//=10\n",
    "\n",
    "if a==s:\n",
    "    print(\"same\")\n",
    "else:\n",
    "    print(\"no\")\n",
    "      "
   ]
  },
  {
   "cell_type": "code",
   "execution_count": 26,
   "id": "dd278e0c-3230-4b82-b6e4-d2c3766d3125",
   "metadata": {},
   "outputs": [
    {
     "name": "stdout",
     "output_type": "stream",
     "text": [
      "153\n",
      "370\n",
      "371\n",
      "407\n",
      "1634\n"
     ]
    }
   ],
   "source": [
    "#.14 Python Program to Find Amstrong Number in an Interval.\n",
    "for num in range (100,2000+1):\n",
    "    order=len(str(num))\n",
    "    temp=num\n",
    "    total=0\n",
    "\n",
    "    while temp>0:\n",
    "        digit=temp%10\n",
    "        total+=digit**order\n",
    "        temp//=10\n",
    "\n",
    "    if num==total:\n",
    "        print(num)"
   ]
  },
  {
   "cell_type": "code",
   "execution_count": 1,
   "id": "43bda8c6-1814-4764-8764-e8d3f61f7ec9",
   "metadata": {},
   "outputs": [
    {
     "name": "stdout",
     "output_type": "stream",
     "text": [
      "The sum is 136\n"
     ]
    }
   ],
   "source": [
    "#.15 Python Program to Find the Sum of Natural Numbers.\n",
    "\n",
    "num=16\n",
    "\n",
    "if num<0:\n",
    "    print(\"enter a positive number\")\n",
    "\n",
    "else:\n",
    "    sum=0\n",
    "    while(num>0):\n",
    "        sum+=num\n",
    "        num-=1\n",
    "    print(\"The sum is\",sum)"
   ]
  },
  {
   "cell_type": "code",
   "execution_count": 3,
   "id": "59ae877d-c08f-420e-96e3-d1a7e4d34f9e",
   "metadata": {},
   "outputs": [
    {
     "name": "stdout",
     "output_type": "stream",
     "text": [
      "Numbers divisible by 5 : [5, 10, 15, 20, 25]\n"
     ]
    }
   ],
   "source": [
    "#.16 Python Program to Find Numbers Divisible by Another Number.\n",
    "\n",
    "divisible=[5,10,15,20,25,22,13,27]\n",
    "divisor=5\n",
    "by=[]\n",
    "for i in divisible:\n",
    "    if i%divisor==0:\n",
    "        by.append(i)\n",
    "\n",
    "print(\"Numbers divisible by\" , divisor, \":\", by)"
   ]
  },
  {
   "cell_type": "code",
   "execution_count": 14,
   "id": "538c0b65-594d-406a-8545-76fc6899840f",
   "metadata": {},
   "outputs": [
    {
     "name": "stdin",
     "output_type": "stream",
     "text": [
      "enter the first number 48\n",
      "enter the second number 18\n"
     ]
    },
    {
     "name": "stdout",
     "output_type": "stream",
     "text": [
      "The HCF or GCD of the given numbers is: 18\n",
      "The HCF or GCD of the given numbers is: 12\n",
      "The HCF or GCD of the given numbers is: 6\n"
     ]
    }
   ],
   "source": [
    "#.17 Python Program to Find HCF or GCD.\n",
    "\n",
    "num1= int(input(\"enter the first number\"))\n",
    "num2 =int(input(\"enter the second number\"))\n",
    "\n",
    "if num2 > num1:\n",
    "    num1,num2=num2,num1\n",
    "\n",
    "while num2 !=0:\n",
    "    remainder=num1 % num2   #48 % 18 =12\n",
    "    num1=num2               #18 % 12 =6\n",
    "    num2=remainder          #12 % 6 =0\n",
    "\n",
    "#    num1 =num2\n",
    "#    num2 =remainder\n",
    "\n",
    "    gcd = num1\n",
    "    print(f\"The HCF or GCD of the given numbers is: {gcd}\")"
   ]
  },
  {
   "cell_type": "code",
   "execution_count": 1,
   "id": "7ece159b-9834-4250-9966-da7900521703",
   "metadata": {},
   "outputs": [
    {
     "name": "stdin",
     "output_type": "stream",
     "text": [
      "Enter the first number:  5\n",
      "Enter the second number:  7\n"
     ]
    },
    {
     "name": "stdout",
     "output_type": "stream",
     "text": [
      "The LCM of 5 and 7 is 35\n"
     ]
    }
   ],
   "source": [
    "#18.Python Program to Find LCM.\n",
    "num1 = int(input(\"Enter the first number: \"))\n",
    "num2 = int(input(\"Enter the second number: \"))\n",
    "c=max(num1,num2)\n",
    "result=0\n",
    "for i in range(c,(num1*num2)+1):\n",
    "    if (i%num1==0)and (i%num2==0):\n",
    "        result=i\n",
    "        print(f\"The LCM of {num1} and {num2} is {result}\")"
   ]
  },
  {
   "cell_type": "code",
   "execution_count": 2,
   "id": "537b2376-e3b2-4a47-9c49-3b936b0c502d",
   "metadata": {},
   "outputs": [
    {
     "name": "stdout",
     "output_type": "stream",
     "text": [
      "Yes, it's a palindrome.\n"
     ]
    }
   ],
   "source": [
    "#19.Python Program to Check Whether a String is Palindrome or Not.\n",
    "st = 'moom'\n",
    "j = -1\n",
    "flag = 0\n",
    "for i in st:\n",
    "    if i != st[j]:\n",
    "        flag = 1\n",
    "        break\n",
    "    j -= 1\n",
    "if flag == 1:\n",
    "    print(\"No, it's not a palindrome.\")\n",
    "else:\n",
    "    print(\"Yes, it's a palindrome.\")\n"
   ]
  },
  {
   "cell_type": "code",
   "execution_count": 3,
   "id": "de237b9b-9117-40fb-b6fb-ce7039113559",
   "metadata": {},
   "outputs": [
    {
     "name": "stdout",
     "output_type": "stream",
     "text": [
      "The original string is : qwerty,poiuyt!asdfgh?jklzx.bnm,?<>/\n",
      "The string after punctuation filter : qwerty poiuyt asdfgh jklzx bnm     \n"
     ]
    }
   ],
   "source": [
    "#20.Python Program to Remove Punctuations From a String.\n",
    "\n",
    "test_str = \"qwerty,poiuyt!asdfgh?jklzx.bnm,?<>/\"\n",
    "print(\"The original string is : \" + test_str)\n",
    "punc = '''!()-[]{};:'\"\\,<>./?@#$%^&*_~'''\n",
    "\n",
    "for ele in test_str:\n",
    "    if ele in punc:\n",
    "        test_str = test_str.replace(ele, \" \")\n",
    "        \n",
    "print(\"The string after punctuation filter : \" + test_str)"
   ]
  },
  {
   "cell_type": "code",
   "execution_count": 4,
   "id": "1b18d497-780d-4e7e-8597-299aec9e0bdc",
   "metadata": {},
   "outputs": [
    {
     "name": "stdout",
     "output_type": "stream",
     "text": [
      "Words in alphabetic order: apple banana cherry date fig\n"
     ]
    }
   ],
   "source": [
    "#21.Python Program to Sort Words in Alphabetic Order.\n",
    "\n",
    "input_string = \"cherry banana date apple fig\"\n",
    "words = input_string.split()\n",
    "\n",
    "n = len(words)\n",
    "for i in range(1, n):\n",
    "    key = words[i]\n",
    "    j = i - 1\n",
    "    while j >= 0 and words[j] > key:\n",
    "        words[j + 1] = words[j]\n",
    "        j -= 1\n",
    "    words[j + 1] = key\n",
    "\n",
    "sorted_string = \" \".join(words)\n",
    "print(\"Words in alphabetic order:\", sorted_string)\n"
   ]
  },
  {
   "cell_type": "code",
   "execution_count": 5,
   "id": "697f0f9b-aaa3-4820-8feb-fb9596881b9f",
   "metadata": {},
   "outputs": [
    {
     "name": "stdout",
     "output_type": "stream",
     "text": [
      "Union of E and N is {0, 1, 2, 3, 4, 5, 6, 8}\n",
      "Intersection of E and N is {2, 4}\n",
      "Difference of E and N is {0, 8, 6}\n",
      "Symmetric difference of E and N is {0, 1, 3, 5, 6, 8}\n"
     ]
    }
   ],
   "source": [
    "# 22.Python Program to Illustrate Different Set Operations\n",
    "E = {0, 2, 4, 6, 8}\n",
    "N = {1, 2, 3, 4, 5}\n",
    "\n",
    "print(\"Union of E and N is\", E | N)\n",
    "\n",
    "print(\"Intersection of E and N is\", E & N)\n",
    "\n",
    "print(\"Difference of E and N is\", E - N)\n",
    "\n",
    "print(\"Symmetric difference of E and N is\", E ^ N)\n"
   ]
  },
  {
   "cell_type": "code",
   "execution_count": 6,
   "id": "c2a92c65-8e8e-4a1a-8928-57fdd2343c80",
   "metadata": {},
   "outputs": [
    {
     "name": "stdout",
     "output_type": "stream",
     "text": [
      "{'a': 2, 'e': 5, 'i': 3, 'o': 5, 'u': 3}\n"
     ]
    }
   ],
   "source": [
    "#23.Python Program to Count the Number of Each Vowel.\n",
    "\n",
    "vowels = 'aeiou'\n",
    "ip_str = 'Hello, have you tried our tutorial section yet?'\n",
    "\n",
    "ip_str = ip_str.casefold()\n",
    "\n",
    "count = {}.fromkeys(vowels,0)\n",
    "\n",
    "for char in ip_str:\n",
    "    if char in count:\n",
    "        count[char] += 1\n",
    "\n",
    "print(count)"
   ]
  },
  {
   "cell_type": "code",
   "execution_count": 7,
   "id": "50533df0-5b8b-4aa3-86c3-ca2bddc8ee94",
   "metadata": {},
   "outputs": [
    {
     "name": "stdout",
     "output_type": "stream",
     "text": [
      "Original list: [10, 0, 1, 2, 3, 4, 5, 7, 9, 0]\n",
      "List after swapping first and last elements: [0, 0, 1, 2, 3, 4, 5, 7, 9, 10]\n"
     ]
    }
   ],
   "source": [
    "# 24.Python program to interchange first and last elements in a list.\n",
    "\n",
    "my_list = [10,0,1, 2, 3, 4, 5,7,9,0]\n",
    "print(\"Original list:\", my_list)\n",
    "n = len(my_list)\n",
    "\n",
    "if n > 1:\n",
    "    temp = my_list[0]\n",
    "    my_list[0] = my_list[n - 1]\n",
    "    my_list[n - 1] = temp\n",
    "\n",
    "print(\"List after swapping first and last elements:\", my_list)\n"
   ]
  },
  {
   "cell_type": "code",
   "execution_count": 8,
   "id": "7c7649ab-ec90-40e0-9d1c-7165b0da4090",
   "metadata": {},
   "outputs": [
    {
     "name": "stdout",
     "output_type": "stream",
     "text": [
      "Original list: [3, 1, 4, 1, 5, 9, 2, 6, 5, 0, -1]\n",
      "The smallest number in the list is: -1\n"
     ]
    }
   ],
   "source": [
    "# 25.Python program to find smallest number in a list.\n",
    "\n",
    "numbers = [3, 1, 4, 1, 5, 9, 2, 6, 5,0,-1]\n",
    "print(\"Original list:\", numbers)\n",
    "smallest_number = numbers[0]\n",
    "for number in numbers:\n",
    "    if number < smallest_number:\n",
    "        smallest_number = number\n",
    "\n",
    "print(\"The smallest number in the list is:\", smallest_number)\n",
    "\n"
   ]
  },
  {
   "cell_type": "code",
   "execution_count": 9,
   "id": "19fc6b22-a967-426c-9e7e-1d8087f894a8",
   "metadata": {},
   "outputs": [
    {
     "name": "stdout",
     "output_type": "stream",
     "text": [
      "Original list: [3, 1, 4, 1, 5, 9, 2, 6, 5, 0, -1, 21]\n",
      "The largest number in the list is: 21\n"
     ]
    }
   ],
   "source": [
    "# 26.Python program to find largest number in a list.\n",
    "numbers = [3, 1, 4, 1, 5, 9, 2, 6, 5,0,-1,21]\n",
    "print(\"Original list:\", numbers)\n",
    "largest_number = numbers[0]\n",
    "for number in numbers:\n",
    "    if number > largest_number:\n",
    "        largest_number = number\n",
    "\n",
    "print(\"The largest number in the list is:\", largest_number)\n"
   ]
  },
  {
   "cell_type": "code",
   "execution_count": 10,
   "id": "db19ba1a-9f9a-4706-ae90-6cd08c10de7d",
   "metadata": {},
   "outputs": [
    {
     "name": "stdout",
     "output_type": "stream",
     "text": [
      " number 0 is numerals\n",
      " number 1 is positive\n",
      " number 2 is positive\n",
      " number 3 is positive\n",
      " number 4 is positive\n",
      " number 5 is positive\n",
      " number 6 is positive\n",
      " number 7 is positive\n",
      " number 8 is positive\n",
      " number 9 is positive\n"
     ]
    }
   ],
   "source": [
    "#27.Python program to print all positive numbers in a range.\n",
    "#28.Python program to print all negative numbers in a range.\n",
    "for i in range (10):\n",
    "    if i==0:\n",
    "        print(f\" number {i} is numerals\")\n",
    "    elif i>0:\n",
    "        print(f\" number {i} is positive\")\n",
    "    else:\n",
    "        print(f\" number {i} is negative\")"
   ]
  },
  {
   "cell_type": "code",
   "execution_count": 11,
   "id": "524f1590-7f6c-478b-b094-29dba16d07d4",
   "metadata": {},
   "outputs": [
    {
     "name": "stdout",
     "output_type": "stream",
     "text": [
      "[1, 2, 4, 5, 7, 8, 9]\n"
     ]
    }
   ],
   "source": [
    "# 30.Program to print duplicates from a list of integers.\n",
    "a = [1, 1, 2, 4, 5, 5, 7, 8, 8, 9, 9]\n",
    "x = []\n",
    "[x.append(i) for i in a if i not in x]\n",
    "print(x)\n"
   ]
  },
  {
   "cell_type": "code",
   "execution_count": 12,
   "id": "feb28f73-132f-479e-9e89-5fb013dd8d58",
   "metadata": {},
   "outputs": [
    {
     "name": "stdout",
     "output_type": "stream",
     "text": [
      "Original list: [11, 5, 17, 18, 23, 50, 30]\n",
      "New list after removing elements: [30]\n"
     ]
    }
   ],
   "source": [
    "# 31.Remove multiple elements from a list in Python.(11,5,17,18,23,50) \n",
    "original_list = [11, 5, 17, 18, 23, 50,30]\n",
    "elements_to_remove = [11, 5, 17, 18, 23, 50] \n",
    "\n",
    "new_list = [x for x in original_list if x not in elements_to_remove]\n",
    "\n",
    "print(\"Original list:\", original_list)\n",
    "print(\"New list after removing elements:\", new_list)\n"
   ]
  },
  {
   "cell_type": "code",
   "execution_count": 13,
   "id": "a5d2b907-18f1-4231-b2fc-008935001f28",
   "metadata": {},
   "outputs": [
    {
     "name": "stdout",
     "output_type": "stream",
     "text": [
      "[1, 4, 9, 16, 25]\n"
     ]
    }
   ],
   "source": [
    "# 32.Given a Python list of numbers. Turn every item of a list into its square Given:\n",
    "#  List = [1, 2, 3, 4, 5, 6, 7]\n",
    "my_list = [1, 2, 3, 4, 5]\n",
    "squared_list = [number ** 2 for number in my_list]\n",
    "print(squared_list)\n"
   ]
  },
  {
   "cell_type": "code",
   "execution_count": 14,
   "id": "302de0ed-9f2e-4160-b36e-70de87fd12a9",
   "metadata": {},
   "outputs": [
    {
     "name": "stdout",
     "output_type": "stream",
     "text": [
      "list1 item: 10 | list2 item (reversed): 400\n",
      "list1 item: 20 | list2 item (reversed): 300\n",
      "list1 item: 30 | list2 item (reversed): 200\n",
      "list1 item: 40 | list2 item (reversed): 100\n"
     ]
    }
   ],
   "source": [
    "# 33.Given a two Python list. Iterate both lists simultaneously such that \n",
    "# list1 should display item in original order and list2 in reverse order.\n",
    "#     list1=[10,20,30,40]\n",
    "#     list2=[100,200,300,400]\n",
    "list1 = [10, 20, 30, 40]\n",
    "list2 = [100, 200, 300, 400]\n",
    "\n",
    "for item1, item2 in zip(list1, reversed(list2)):\n",
    "    print(f\"list1 item: {item1} | list2 item (reversed): {item2}\")\n"
   ]
  },
  {
   "cell_type": "code",
   "execution_count": null,
   "id": "82f5fc5e-b59e-4373-87e3-ab93b0d5b893",
   "metadata": {},
   "outputs": [],
   "source": []
  }
 ],
 "metadata": {
  "kernelspec": {
   "display_name": "Python 3 (ipykernel)",
   "language": "python",
   "name": "python3"
  },
  "language_info": {
   "codemirror_mode": {
    "name": "ipython",
    "version": 3
   },
   "file_extension": ".py",
   "mimetype": "text/x-python",
   "name": "python",
   "nbconvert_exporter": "python",
   "pygments_lexer": "ipython3",
   "version": "3.11.7"
  }
 },
 "nbformat": 4,
 "nbformat_minor": 5
}
