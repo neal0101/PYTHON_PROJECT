{
 "cells": [
  {
   "cell_type": "code",
   "execution_count": 7,
   "id": "b96cf06f-ce5b-4433-9417-90e007b6efae",
   "metadata": {},
   "outputs": [
    {
     "name": "stdout",
     "output_type": "stream",
     "text": [
      "Wallet(balance=100.0)\n",
      "Wallet(balance=50.0)\n",
      "Wallet(balance=0.0)\n",
      "Transaction(type=Add Money, amount=100.0, sender=Hitesh)\n",
      "Transaction(type=Send Money, amount=50.0, sender=Hitesh, recipient=Durvesh)\n",
      "Transaction(type=Send Money, amount=50.0, sender=Hitesh, recipient=Durvesh)\n",
      "Transaction(type=Send Money, amount=50.0, sender=Hitesh, recipient=Durvesh)\n"
     ]
    }
   ],
   "source": [
    "class User:\n",
    "    def __init__(self, name, email, phone):\n",
    "        self.name = name\n",
    "        self.email = email\n",
    "        self.phone = phone\n",
    "        self.wallet = Wallet(self)  # Each user has a wallet\n",
    "        self.transactions = []\n",
    "\n",
    "    def add_money(self, amount):\n",
    "        self.wallet.add_balance(amount)\n",
    "        self.transactions.append(Transaction(self, \"Add Money\", amount))\n",
    "\n",
    "    def send_money(self, recipient, amount):\n",
    "        if self.wallet.balance >= amount:\n",
    "            self.wallet.deduct_balance(amount)\n",
    "            recipient.wallet.add_balance(amount)\n",
    "            transaction = Transaction(self, \"Send Money\", amount, recipient)\n",
    "            self.transactions.append(transaction)\n",
    "            recipient.transactions.append(transaction)\n",
    "        else:\n",
    "            print(\"Insufficient balance\")\n",
    "\n",
    "    def __str__(self):\n",
    "        return f\"User(name={self.name}, email={self.email}, phone={self.phone})\"\n",
    "\n",
    "class Wallet:\n",
    "    def __init__(self, user):\n",
    "        self.user = user\n",
    "        self.balance = 0.0\n",
    "\n",
    "    def add_balance(self, amount):\n",
    "        self.balance += amount\n",
    "\n",
    "    def deduct_balance(self, amount):\n",
    "        self.balance -= amount\n",
    "\n",
    "    def __str__(self):\n",
    "        return f\"Wallet(balance={self.balance})\"\n",
    "\n",
    "\n",
    "class Transaction:\n",
    "    def __init__(self, sender, type, amount, recipient=None):\n",
    "        self.sender = sender\n",
    "        self.type = type\n",
    "        self.amount = amount\n",
    "        self.recipient = recipient\n",
    "\n",
    "    def __str__(self):\n",
    "        if self.recipient:\n",
    "            return f\"Transaction(type={self.type}, amount={self.amount}, sender={self.sender.name}, recipient={self.recipient.name})\"\n",
    "        else:\n",
    "            return f\"Transaction(type={self.type}, amount={self.amount}, sender={self.sender.name})\"\n",
    "\n",
    "\n",
    "# Create users\n",
    "hitesh = User(\"Hitesh\", \"hitesh@example.com\", \"1234567890\")\n",
    "durvesh = User(\"Durvesh\", \"durvesh@example.com\", \"0987654321\")\n",
    "\n",
    "# Add money to Hitesh's wallet\n",
    "hitesh.add_money(100.0)\n",
    "print(hitesh.wallet)  # Wallet(balance=100.0)\n",
    "\n",
    "# hitesh sends money to Durvesh\n",
    "hitesh.send_money(bob, 50.0)\n",
    "print(hitesh.wallet)  # Wallet(balance=50.0)\n",
    "print(durvesh.wallet)    # Wallet(balance=50.0)\n",
    "\n",
    "# Print transactions\n",
    "for transaction in alice.transactions:\n",
    "    print(transaction)\n",
    "\n",
    "for transaction in bob.transactions:\n",
    "    print(transaction)\n"
   ]
  },
  {
   "cell_type": "code",
   "execution_count": null,
   "id": "4e305fe3-8cee-4dcb-a5d2-8fe4cb03902b",
   "metadata": {},
   "outputs": [],
   "source": []
  }
 ],
 "metadata": {
  "kernelspec": {
   "display_name": "Python 3 (ipykernel)",
   "language": "python",
   "name": "python3"
  },
  "language_info": {
   "codemirror_mode": {
    "name": "ipython",
    "version": 3
   },
   "file_extension": ".py",
   "mimetype": "text/x-python",
   "name": "python",
   "nbconvert_exporter": "python",
   "pygments_lexer": "ipython3",
   "version": "3.12.4"
  }
 },
 "nbformat": 4,
 "nbformat_minor": 5
}
