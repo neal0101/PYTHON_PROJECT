{
 "cells": [
  {
   "cell_type": "code",
   "execution_count": 2,
   "id": "79d2af9f",
   "metadata": {},
   "outputs": [],
   "source": [
    "import sys"
   ]
  },
  {
   "cell_type": "code",
   "execution_count": null,
   "id": "42c6b9f1-6f7a-4841-9d3d-3437250de7c7",
   "metadata": {},
   "outputs": [],
   "source": [
    "a={\"hello\":\"hii\",\n",
    "   \"i have just seen your advertisement about IT courses\":\"OK.How can we help you\",\n",
    "   \"i am just graduated and want some guidance on IT courses\":\"yes sure\",\n",
    "   \"what are the courses are providing in this institute\":\"we are providing DATA SCIENCE,DATA ANALYTICS,AI,FULLSTACK DEVELOPER,GRAPHIC DESIGNER,JAVA PROGRAMMING\",\n",
    "   \"OK can u explain this courses in details\":\"yes sure first we will discuss on DATA science its a Study of computers and computational systems\",\n",
    "   \"OK what is the duration of that corse\":\"its basically of 1 year of course\",\n",
    "   \"OK what is the fees\": \"Different fees for all the courses\",\n",
    "   \"What is the career_prospects\":\"You can be a Software Developer, Systems Analyst, Data Scientist\",\n",
    "   \"Actually i am a commerce background student so which course is suitable for me\":\"Good point DataAnalytics is best for you\",\n",
    "   \"OK just ellobarate about the course\":\"like in the DataAnalaytics you will have four subject PYTHON ,SQL,EXCEL and POWERBI\",\n",
    "   \"How much time it will take to complete the course\":\"OK it will take 5 months like 2 months for python 1 month for SQL,1 month for excel and 1 month for powerbi\",\n",
    "   \"OK FINE are they providing any job Placements after completing the course\":\"yes we are giving placements and also we are taking mock interviews\",\n",
    "   \"Ok i am interested but what is the fees for DATAANALYTICS\":\"OK i will tell you all the details its basically 70000 fees\",\n",
    "   \"Any discount on that\":\"like if you will pay on installment first you have to pay half of the amount and remaining you have to pay monthly wise and if you will pay lumpsum so it will be around 55000\",\n",
    "   \"Great so i will pay in lumpsum format\":\"OK fine \",\n",
    "   \"Thats it thankyou for guiding\":\"welcome have a nice day\"\n",
    "  }\n",
    "\n",
    "def chatbot():\n",
    "    while True:\n",
    "        for i,j in a.items():\n",
    "            u=input(\"NILESH:\")\n",
    "            if u in i:\n",
    "                u==j\n",
    "                print(j)\n",
    "            else:\n",
    "                print(\"just ask your inquiry on 00022 or visit our institute in Thane\")\n",
    "                break\n",
    "\n",
    "    \n",
    "          \n",
    "\n",
    "chatbot() "
   ]
  },
  {
   "cell_type": "code",
   "execution_count": null,
   "id": "78707ba8",
   "metadata": {},
   "outputs": [],
   "source": []
  }
 ],
 "metadata": {
  "kernelspec": {
   "display_name": "Python 3 (ipykernel)",
   "language": "python",
   "name": "python3"
  },
  "language_info": {
   "codemirror_mode": {
    "name": "ipython",
    "version": 3
   },
   "file_extension": ".py",
   "mimetype": "text/x-python",
   "name": "python",
   "nbconvert_exporter": "python",
   "pygments_lexer": "ipython3",
   "version": "3.11.7"
  }
 },
 "nbformat": 4,
 "nbformat_minor": 5
}
