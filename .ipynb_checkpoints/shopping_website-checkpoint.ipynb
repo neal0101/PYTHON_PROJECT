{
 "cells": [
  {
   "cell_type": "code",
   "execution_count": 2,
   "id": "f45844b2-fb13-4a7e-ae4a-12ee57c4b544",
   "metadata": {},
   "outputs": [
    {
     "name": "stdout",
     "output_type": "stream",
     "text": [
      "Purchase of 5000 from Amazon successful.\n",
      "Remaining balance: 65000\n",
      "Remaining balance in Amazon account: 65000\n"
     ]
    }
   ],
   "source": [
    "class GPay:\n",
    "    def __init__(self, balance):\n",
    "        self.balance = balance\n",
    "\n",
    "    def check_balance(self):\n",
    "        return self.balance\n",
    "\n",
    "    def make_purchase(self, amount, website):\n",
    "        if amount > self.balance:\n",
    "            print(f\"Insufficient balance to make a purchase of {amount} from {website}.\")\n",
    "        else:\n",
    "            self.balance -= amount\n",
    "            print(f\"Purchase of {amount} from {website} successful.\")\n",
    "            print(f\"Remaining balance: {self.balance}\")\n",
    "\n",
    "class Amazon(GPay):\n",
    "    def __init__(self, balance):\n",
    "        super().__init__(balance)\n",
    "\n",
    "    def buy_shirt(self):\n",
    "        shirt_price = 5000  # Assume the price of the shirt is 5000\n",
    "        self.make_purchase(shirt_price, \"Amazon\")\n",
    "\n",
    "class Flipkart(GPay):\n",
    "    def __init__(self, balance):\n",
    "        super().__init__(balance)\n",
    "\n",
    "    def buy_shirt(self):\n",
    "        shirt_price = 1400  # Assume the price of the shirt is 1400\n",
    "        self.make_purchase(shirt_price, \"Flipkart\")\n",
    "\n",
    "class Myntra(GPay):\n",
    "    def __init__(self, balance):\n",
    "        super().__init__(balance)\n",
    "\n",
    "    def buy_shirt(self):\n",
    "        shirt_price = 1300  # Assume the price of the shirt is 1300\n",
    "        self.make_purchase(shirt_price, \"Myntra\")\n",
    "\n",
    "# Example usage:\n",
    "balance = 70000\n",
    "\n",
    "\n",
    "amazon_account = Amazon(balance)\n",
    "flipkart_account = Flipkart(balance)\n",
    "myntra_account = Myntra(balance)\n",
    "\n",
    "#buying from amazon website\n",
    "amazon_account.buy_shirt()\n",
    "\n",
    "# remaining balance\n",
    "print(f\"Remaining balance in Amazon account: {amazon_account.check_balance()}\")\n"
   ]
  },
  {
   "cell_type": "code",
   "execution_count": null,
   "id": "842af7c5-8af1-4931-916b-542a97218a52",
   "metadata": {},
   "outputs": [],
   "source": []
  }
 ],
 "metadata": {
  "kernelspec": {
   "display_name": "Python 3 (ipykernel)",
   "language": "python",
   "name": "python3"
  },
  "language_info": {
   "codemirror_mode": {
    "name": "ipython",
    "version": 3
   },
   "file_extension": ".py",
   "mimetype": "text/x-python",
   "name": "python",
   "nbconvert_exporter": "python",
   "pygments_lexer": "ipython3",
   "version": "3.12.4"
  }
 },
 "nbformat": 4,
 "nbformat_minor": 5
}
